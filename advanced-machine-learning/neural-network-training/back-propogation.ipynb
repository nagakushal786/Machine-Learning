{
 "cells": [
  {
   "cell_type": "markdown",
   "id": "e50230dd",
   "metadata": {},
   "source": [
    "## Back propogation using computation graph"
   ]
  },
  {
   "cell_type": "code",
   "execution_count": null,
   "id": "6f633d23",
   "metadata": {},
   "outputs": [],
   "source": [
    "from sympy import *\n",
    "import matplotlib.pyplot as plt\n",
    "%matplotlib inline\n",
    "from lab_utils_backprop import *"
   ]
  },
  {
   "cell_type": "markdown",
   "id": "7fde1889",
   "metadata": {},
   "source": [
    "Let's calculate the derivative of this slightly complex expression, $J = (2+3w)^2$"
   ]
  },
  {
   "cell_type": "markdown",
   "id": "907837f4",
   "metadata": {},
   "source": [
    "### Forward propogation"
   ]
  },
  {
   "cell_type": "code",
   "execution_count": null,
   "id": "01b155f9",
   "metadata": {},
   "outputs": [],
   "source": [
    "w=3\n",
    "a=2+3*w\n",
    "J=a**2\n",
    "print(f\"a={a}, J={J}\")"
   ]
  },
  {
   "cell_type": "markdown",
   "id": "d70651d2",
   "metadata": {},
   "source": [
    "### Back propogation"
   ]
  },
  {
   "cell_type": "markdown",
   "id": "c495f751",
   "metadata": {},
   "source": [
    "### $\\frac{\\partial J}{\\partial a}$ "
   ]
  },
  {
   "cell_type": "markdown",
   "id": "eef224c7",
   "metadata": {},
   "source": [
    "#### Arithmetically"
   ]
  },
  {
   "cell_type": "code",
   "execution_count": null,
   "id": "afbc1e67",
   "metadata": {},
   "outputs": [],
   "source": [
    "a_epsilon=a+0.001\n",
    "J_epsilon=a_epsilon**2\n",
    "k=(J_epsilon-J)/0.001\n",
    "print(f\"{k:0.6f}\")"
   ]
  },
  {
   "cell_type": "markdown",
   "id": "0093e13c",
   "metadata": {},
   "source": [
    "#### Symbolically"
   ]
  },
  {
   "cell_type": "code",
   "execution_count": null,
   "id": "17488a21",
   "metadata": {},
   "outputs": [],
   "source": [
    "sw, sJ, sa=symbols('w, J, a')"
   ]
  },
  {
   "cell_type": "code",
   "execution_count": null,
   "id": "64feeb3f",
   "metadata": {},
   "outputs": [],
   "source": [
    "sJ=sa**2\n",
    "sJ"
   ]
  },
  {
   "cell_type": "code",
   "execution_count": null,
   "id": "5691abdc",
   "metadata": {},
   "outputs": [],
   "source": [
    "sJ.subs([(sa, a)])"
   ]
  },
  {
   "cell_type": "code",
   "execution_count": null,
   "id": "10a1378f",
   "metadata": {},
   "outputs": [],
   "source": [
    "dJ_da=diff(sJ, sa)\n",
    "dJ_da"
   ]
  },
  {
   "cell_type": "code",
   "execution_count": null,
   "id": "3ce2458d",
   "metadata": {},
   "outputs": [],
   "source": [
    "dJ_da.subs([(sa, a)])"
   ]
  },
  {
   "cell_type": "markdown",
   "id": "1640cc32",
   "metadata": {},
   "source": [
    "So, $\\frac{\\partial J}{\\partial a} = 2a$. When $a=11$, $\\frac{\\partial J}{\\partial a} = 22$. This matches our arithmetic calculation above."
   ]
  },
  {
   "cell_type": "markdown",
   "id": "f66f4be1",
   "metadata": {},
   "source": [
    "### $\\frac{\\partial J}{\\partial w}$"
   ]
  },
  {
   "cell_type": "code",
   "execution_count": null,
   "id": "f607edf6",
   "metadata": {},
   "outputs": [],
   "source": [
    "w_epsilon=w+0.001\n",
    "a_epsilon=2+3*w_epsilon\n",
    "k=(a_epsilon-a)/0.001\n",
    "print(f\"{k:0.6f}\")"
   ]
  },
  {
   "cell_type": "code",
   "execution_count": null,
   "id": "d4d6c1b6",
   "metadata": {},
   "outputs": [],
   "source": [
    "sa=2+3*sw\n",
    "sa"
   ]
  },
  {
   "cell_type": "code",
   "execution_count": null,
   "id": "0a4be73e",
   "metadata": {},
   "outputs": [],
   "source": [
    "da_dw=diff(sa, sw)\n",
    "da_dw"
   ]
  },
  {
   "cell_type": "markdown",
   "id": "c8319799",
   "metadata": {},
   "source": [
    " $$\\frac{\\partial J}{\\partial w} = \\frac{\\partial a}{\\partial w} \\frac{\\partial J}{\\partial a} $$"
   ]
  },
  {
   "cell_type": "code",
   "execution_count": null,
   "id": "32920c70",
   "metadata": {},
   "outputs": [],
   "source": [
    "dJ_dw=da_dw*dJ_da\n",
    "dJ_dw"
   ]
  },
  {
   "cell_type": "code",
   "execution_count": null,
   "id": "a6d30feb",
   "metadata": {},
   "outputs": [],
   "source": [
    "w_epsilon=w+0.001\n",
    "a_epsilon=2+3*w_epsilon\n",
    "J_epsilon=a_epsilon**2\n",
    "k=(J_epsilon-J)/0.001\n",
    "print(f\"{k:0.6f}\")"
   ]
  },
  {
   "cell_type": "markdown",
   "id": "b531d903",
   "metadata": {},
   "source": [
    "### Computation graph for a simple neural network"
   ]
  },
  {
   "cell_type": "markdown",
   "id": "3d74c6e6",
   "metadata": {},
   "source": [
    "Refer to the example written in the notebook"
   ]
  },
  {
   "cell_type": "code",
   "execution_count": null,
   "id": "2b00b968",
   "metadata": {},
   "outputs": [],
   "source": [
    "x=2\n",
    "w=-2\n",
    "b=8\n",
    "y=1\n",
    "\n",
    "c=w*x\n",
    "a=c+b\n",
    "d=a-y\n",
    "J=(d**2)/2\n",
    "\n",
    "print(J, d, a, c)"
   ]
  },
  {
   "cell_type": "markdown",
   "id": "b1bc011e",
   "metadata": {},
   "source": [
    "### $\\frac{\\partial J}{\\partial d}$"
   ]
  },
  {
   "cell_type": "code",
   "execution_count": null,
   "id": "b60bf20e",
   "metadata": {},
   "outputs": [],
   "source": [
    "d_epsilon=d+0.001\n",
    "J_epsilon=(d_epsilon**2)/2\n",
    "k=(J_epsilon-J)/0.001\n",
    "print(f\"{k:0.6f}\")"
   ]
  },
  {
   "cell_type": "code",
   "execution_count": null,
   "id": "56d5028d",
   "metadata": {},
   "outputs": [],
   "source": [
    "sx, sw, sb, sy, sJ=symbols('x, w, b, y, J')\n",
    "sa, sc, sd=symbols('a, c, d')"
   ]
  },
  {
   "cell_type": "code",
   "execution_count": null,
   "id": "5ca049f3",
   "metadata": {},
   "outputs": [],
   "source": [
    "sJ=sd**2/2\n",
    "sJ"
   ]
  },
  {
   "cell_type": "code",
   "execution_count": null,
   "id": "90a18d52",
   "metadata": {},
   "outputs": [],
   "source": [
    "dJ_dd=diff(sJ, sd)\n",
    "dJ_dd"
   ]
  },
  {
   "cell_type": "code",
   "execution_count": null,
   "id": "5d79e1af",
   "metadata": {},
   "outputs": [],
   "source": [
    "dJ_dd.subs([(sd, d)])"
   ]
  },
  {
   "cell_type": "markdown",
   "id": "68acd923",
   "metadata": {},
   "source": [
    "### $\\frac{\\partial J}{\\partial a}$"
   ]
  },
  {
   "cell_type": "code",
   "execution_count": null,
   "id": "bb33b0ec",
   "metadata": {},
   "outputs": [],
   "source": [
    "sd=sa-sy\n",
    "sd"
   ]
  },
  {
   "cell_type": "code",
   "execution_count": null,
   "id": "9bde3086",
   "metadata": {},
   "outputs": [],
   "source": [
    "dd_da=diff(sd, sa)\n",
    "dd_da"
   ]
  },
  {
   "cell_type": "markdown",
   "id": "50601202",
   "metadata": {},
   "source": [
    "$$\\frac{\\partial J}{\\partial a} = \\frac{\\partial d}{\\partial a} \\frac{\\partial J}{\\partial d} $$"
   ]
  },
  {
   "cell_type": "code",
   "execution_count": null,
   "id": "e82d03de",
   "metadata": {},
   "outputs": [],
   "source": [
    "dJ_da=dd_da*dJ_dd\n",
    "dJ_da"
   ]
  },
  {
   "cell_type": "markdown",
   "id": "d703cc93",
   "metadata": {},
   "source": [
    "### $\\frac{\\partial J}{\\partial c}$,  $\\frac{\\partial J}{\\partial b}$"
   ]
  },
  {
   "cell_type": "code",
   "execution_count": null,
   "id": "9c31bb68",
   "metadata": {},
   "outputs": [],
   "source": [
    "sa=sc+sb\n",
    "sa"
   ]
  },
  {
   "cell_type": "code",
   "execution_count": null,
   "id": "fd4ec3da",
   "metadata": {},
   "outputs": [],
   "source": [
    "da_dc=diff(sa, sc)\n",
    "da_dc"
   ]
  },
  {
   "cell_type": "code",
   "execution_count": null,
   "id": "604d73ad",
   "metadata": {},
   "outputs": [],
   "source": [
    "da_db=diff(sa, sb)\n",
    "da_db"
   ]
  },
  {
   "cell_type": "code",
   "execution_count": null,
   "id": "f12f9f22",
   "metadata": {},
   "outputs": [],
   "source": [
    "dJ_dc=dJ_da*da_dc\n",
    "dJ_dc"
   ]
  },
  {
   "cell_type": "code",
   "execution_count": null,
   "id": "64478dcb",
   "metadata": {},
   "outputs": [],
   "source": [
    "dJ_db=dJ_da*da_db\n",
    "dJ_db"
   ]
  },
  {
   "cell_type": "markdown",
   "id": "6eb36d23",
   "metadata": {},
   "source": [
    "###  $\\frac{\\partial J}{\\partial w}$"
   ]
  },
  {
   "cell_type": "code",
   "execution_count": null,
   "id": "424a15c3",
   "metadata": {},
   "outputs": [],
   "source": [
    "sc=sw*sx\n",
    "sc"
   ]
  },
  {
   "cell_type": "code",
   "execution_count": null,
   "id": "2f60c3aa",
   "metadata": {},
   "outputs": [],
   "source": [
    "dc_dw=diff(sc, sw)\n",
    "dc_dw"
   ]
  },
  {
   "cell_type": "code",
   "execution_count": null,
   "id": "da6db20e",
   "metadata": {},
   "outputs": [],
   "source": [
    "dJ_dw=dJ_dc*dc_dw\n",
    "dJ_dw"
   ]
  },
  {
   "cell_type": "code",
   "execution_count": null,
   "id": "c32940f9",
   "metadata": {},
   "outputs": [],
   "source": [
    "dJ_dw.subs([(sx, x)])"
   ]
  }
 ],
 "metadata": {
  "kernelspec": {
   "display_name": "Python 3",
   "language": "python",
   "name": "python3"
  },
  "language_info": {
   "codemirror_mode": {
    "name": "ipython",
    "version": 3
   },
   "file_extension": ".py",
   "mimetype": "text/x-python",
   "name": "python",
   "nbconvert_exporter": "python",
   "pygments_lexer": "ipython3",
   "version": "3.12.10"
  }
 },
 "nbformat": 4,
 "nbformat_minor": 5
}
