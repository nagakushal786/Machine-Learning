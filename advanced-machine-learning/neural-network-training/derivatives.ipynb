{
 "cells": [
  {
   "cell_type": "markdown",
   "id": "b364fd9e",
   "metadata": {},
   "source": [
    "## Derivatives"
   ]
  },
  {
   "cell_type": "code",
   "execution_count": 6,
   "id": "51d1bbf1",
   "metadata": {},
   "outputs": [],
   "source": [
    "from sympy import diff, symbols"
   ]
  },
  {
   "cell_type": "code",
   "execution_count": 7,
   "id": "fae04c13",
   "metadata": {},
   "outputs": [
    {
     "name": "stdout",
     "output_type": "stream",
     "text": [
      "6.001000\n"
     ]
    }
   ],
   "source": [
    "J=(3)**2\n",
    "J_epsilon=(3+0.001)**2\n",
    "k=(J_epsilon-J)/0.001\n",
    "print(f\"{k:0.6f}\")"
   ]
  },
  {
   "cell_type": "markdown",
   "id": "c03e44eb",
   "metadata": {},
   "source": [
    "### $J=w^2$"
   ]
  },
  {
   "cell_type": "code",
   "execution_count": 8,
   "id": "74ba75d7",
   "metadata": {},
   "outputs": [],
   "source": [
    "J, w=symbols('J, w')"
   ]
  },
  {
   "cell_type": "code",
   "execution_count": 9,
   "id": "da4a5e35",
   "metadata": {},
   "outputs": [
    {
     "data": {
      "text/latex": [
       "$\\displaystyle w^{2}$"
      ],
      "text/plain": [
       "w**2"
      ]
     },
     "execution_count": 9,
     "metadata": {},
     "output_type": "execute_result"
    }
   ],
   "source": [
    "J=w**2\n",
    "J"
   ]
  },
  {
   "cell_type": "code",
   "execution_count": 10,
   "id": "dd6e8015",
   "metadata": {},
   "outputs": [
    {
     "data": {
      "text/latex": [
       "$\\displaystyle 2 w$"
      ],
      "text/plain": [
       "2*w"
      ]
     },
     "execution_count": 10,
     "metadata": {},
     "output_type": "execute_result"
    }
   ],
   "source": [
    "dJ_dw=diff(J, w)\n",
    "dJ_dw"
   ]
  },
  {
   "cell_type": "code",
   "execution_count": 11,
   "id": "497f133a",
   "metadata": {},
   "outputs": [
    {
     "data": {
      "text/latex": [
       "$\\displaystyle 4$"
      ],
      "text/plain": [
       "4"
      ]
     },
     "execution_count": 11,
     "metadata": {},
     "output_type": "execute_result"
    }
   ],
   "source": [
    "dJ_dw.subs([(w, 2)])"
   ]
  },
  {
   "cell_type": "code",
   "execution_count": 12,
   "id": "2880a29d",
   "metadata": {},
   "outputs": [
    {
     "data": {
      "text/latex": [
       "$\\displaystyle 6$"
      ],
      "text/plain": [
       "6"
      ]
     },
     "execution_count": 12,
     "metadata": {},
     "output_type": "execute_result"
    }
   ],
   "source": [
    "dJ_dw.subs([(w, 3)])"
   ]
  },
  {
   "cell_type": "code",
   "execution_count": 13,
   "id": "fdfc9fa1",
   "metadata": {},
   "outputs": [
    {
     "data": {
      "text/latex": [
       "$\\displaystyle -6$"
      ],
      "text/plain": [
       "-6"
      ]
     },
     "execution_count": 13,
     "metadata": {},
     "output_type": "execute_result"
    }
   ],
   "source": [
    "dJ_dw.subs([(w, -3)])"
   ]
  },
  {
   "cell_type": "markdown",
   "id": "12cae0eb",
   "metadata": {},
   "source": [
    "### $J=\\frac{1}{w^2}$"
   ]
  },
  {
   "cell_type": "code",
   "execution_count": 14,
   "id": "21af53e7",
   "metadata": {},
   "outputs": [],
   "source": [
    "J, w=symbols('J, w')"
   ]
  },
  {
   "cell_type": "code",
   "execution_count": 15,
   "id": "cf4f3651",
   "metadata": {},
   "outputs": [
    {
     "data": {
      "text/latex": [
       "$\\displaystyle \\frac{1}{w^{2}}$"
      ],
      "text/plain": [
       "w**(-2)"
      ]
     },
     "execution_count": 15,
     "metadata": {},
     "output_type": "execute_result"
    }
   ],
   "source": [
    "J=1/(w**2)\n",
    "J"
   ]
  },
  {
   "cell_type": "code",
   "execution_count": 16,
   "id": "1dd6c6f6",
   "metadata": {},
   "outputs": [
    {
     "data": {
      "text/latex": [
       "$\\displaystyle - \\frac{2}{w^{3}}$"
      ],
      "text/plain": [
       "-2/w**3"
      ]
     },
     "execution_count": 16,
     "metadata": {},
     "output_type": "execute_result"
    }
   ],
   "source": [
    "dJ_dw=diff(J, w)\n",
    "dJ_dw"
   ]
  },
  {
   "cell_type": "code",
   "execution_count": 17,
   "id": "d1f34fc2",
   "metadata": {},
   "outputs": [
    {
     "data": {
      "text/latex": [
       "$\\displaystyle - \\frac{2}{27}$"
      ],
      "text/plain": [
       "-2/27"
      ]
     },
     "execution_count": 17,
     "metadata": {},
     "output_type": "execute_result"
    }
   ],
   "source": [
    "dJ_dw.subs([(w, 3)])"
   ]
  }
 ],
 "metadata": {
  "kernelspec": {
   "display_name": "Python 3",
   "language": "python",
   "name": "python3"
  },
  "language_info": {
   "codemirror_mode": {
    "name": "ipython",
    "version": 3
   },
   "file_extension": ".py",
   "mimetype": "text/x-python",
   "name": "python",
   "nbconvert_exporter": "python",
   "pygments_lexer": "ipython3",
   "version": "3.12.10"
  }
 },
 "nbformat": 4,
 "nbformat_minor": 5
}
