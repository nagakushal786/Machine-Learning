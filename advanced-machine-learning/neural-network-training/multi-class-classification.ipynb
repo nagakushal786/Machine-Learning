{
 "cells": [
  {
   "cell_type": "markdown",
   "id": "f377eefa",
   "metadata": {},
   "source": [
    "## Multi class classification"
   ]
  },
  {
   "cell_type": "code",
   "execution_count": null,
   "id": "ef0926d3",
   "metadata": {},
   "outputs": [],
   "source": [
    "import numpy as np\n",
    "import matplotlib.pyplot as plt\n",
    "%matplotlib inline\n",
    "import tensorflow as tf\n",
    "from tensorflow.keras.layers import Dense # type: ignore\n",
    "from tensorflow.keras.models import Sequential # type: ignore\n",
    "from tensorflow.keras.losses import SparseCategoricalCrossentropy # type: ignore\n",
    "from tensorflow.keras.optimizers import Adam # type: ignore\n",
    "from lab_utils_multiclass_TF import *\n",
    "from my_samples_generator import make_blobs\n",
    "\n",
    "np.set_printoptions(precision=2)\n",
    "\n",
    "# Allows us to manage and control the log messages\n",
    "import logging\n",
    "# Sets the logging level for tensorflow to show only errors\n",
    "logging.getLogger(\"tensorflow\").setLevel(logging.ERROR)\n",
    "# Controls the verbosity of tensorflow autograph i.e; python code to tensorflow graph code\n",
    "tf.autograph.set_verbosity(0)\n",
    "# Disables internal logging or output messages"
   ]
  },
  {
   "cell_type": "code",
   "execution_count": null,
   "id": "abf1a151",
   "metadata": {},
   "outputs": [],
   "source": [
    "classes=4\n",
    "m=100\n",
    "centers=[[-5, 2], [-2, 2], [1, 2], [5, -2]]\n",
    "std=1.0"
   ]
  },
  {
   "cell_type": "code",
   "execution_count": null,
   "id": "2a40cd54",
   "metadata": {},
   "outputs": [],
   "source": [
    "x_train, y_train=make_blobs(n_samples=m, centers=centers, cluster_std=std, random_state=30)"
   ]
  },
  {
   "cell_type": "code",
   "execution_count": null,
   "id": "602b3812",
   "metadata": {},
   "outputs": [],
   "source": [
    "plt_mc(x_train, y_train, classes, centers, std)"
   ]
  },
  {
   "cell_type": "code",
   "execution_count": null,
   "id": "f8703e40",
   "metadata": {},
   "outputs": [],
   "source": [
    "print(f\"Unique classes of dataset: {np.unique(y_train)}\")"
   ]
  },
  {
   "cell_type": "code",
   "execution_count": null,
   "id": "46e33d19",
   "metadata": {},
   "outputs": [],
   "source": [
    "print(f\"Classes are represented as: {y_train[:10]}\")"
   ]
  },
  {
   "cell_type": "code",
   "execution_count": null,
   "id": "b4feabd2",
   "metadata": {},
   "outputs": [],
   "source": [
    "print(f\"Dimensions of x and y datasets: {x_train.shape}, {y_train.shape}\")"
   ]
  },
  {
   "cell_type": "markdown",
   "id": "0c714bce",
   "metadata": {},
   "source": [
    "### Building the model"
   ]
  },
  {
   "cell_type": "code",
   "execution_count": null,
   "id": "cca3e142",
   "metadata": {},
   "outputs": [],
   "source": [
    "tf.random.set_seed(1234)\n",
    "\n",
    "model=Sequential(\n",
    "  [\n",
    "    Dense(units=2, activation='relu', name=\"L1\"),\n",
    "    Dense(units=4, activation='linear', name=\"L2\")\n",
    "  ]\n",
    ")"
   ]
  },
  {
   "cell_type": "code",
   "execution_count": null,
   "id": "93af703d",
   "metadata": {},
   "outputs": [],
   "source": [
    "model.compile(\n",
    "  loss=SparseCategoricalCrossentropy(from_logits=True),\n",
    "  optimizer=Adam(learning_rate=0.01)\n",
    ")"
   ]
  },
  {
   "cell_type": "code",
   "execution_count": null,
   "id": "de61ad14",
   "metadata": {},
   "outputs": [],
   "source": [
    "model.fit(\n",
    "  x_train, y_train,\n",
    "  epochs=200\n",
    ")"
   ]
  },
  {
   "cell_type": "code",
   "execution_count": null,
   "id": "c9be6764",
   "metadata": {},
   "outputs": [],
   "source": [
    "plt_cat_mc(x_train, y_train, model, classes)"
   ]
  },
  {
   "cell_type": "code",
   "execution_count": null,
   "id": "f49658db",
   "metadata": {},
   "outputs": [],
   "source": [
    "l1=model.get_layer(\"L1\")\n",
    "W1, b1=l1.get_weights()\n",
    "\n",
    "print(W1, b1)"
   ]
  },
  {
   "cell_type": "code",
   "execution_count": null,
   "id": "e85f46ba",
   "metadata": {},
   "outputs": [],
   "source": [
    "plt_layer_relu(x_train, y_train.reshape(-1,), W1, b1, classes)"
   ]
  },
  {
   "cell_type": "markdown",
   "id": "1ec71da0",
   "metadata": {},
   "source": [
    "Unit 0 has separated classes 0 and 1 from classes 2 and 3. Points to the left of the line (classes 0 and 1) will output zero, while points to the right will output a value greater than zero.  \n",
    "Unit 1 has separated classes 0 and 2 from classes 1 and 3. Points above the line (classes 0 and 2 ) will output a zero, while points below will output a value greater than zero."
   ]
  },
  {
   "cell_type": "code",
   "execution_count": null,
   "id": "816f8758",
   "metadata": {},
   "outputs": [],
   "source": [
    "linear_layer_input=np.maximum(0, np.dot(x_train, W1)+b1)"
   ]
  },
  {
   "cell_type": "code",
   "execution_count": null,
   "id": "a87cd8fe",
   "metadata": {},
   "outputs": [],
   "source": [
    "l2=model.get_layer(\"L2\")\n",
    "W2, b2=l2.get_weights()\n",
    "\n",
    "print(W2, b2)"
   ]
  },
  {
   "cell_type": "code",
   "execution_count": null,
   "id": "5a454d47",
   "metadata": {},
   "outputs": [],
   "source": [
    "plt_output_layer_linear(linear_layer_input, y_train.reshape(-1,),\n",
    "                        W2, b2, classes,\n",
    "                        x0_rng=(-0.25, np.amax(linear_layer_input[:, 0])),\n",
    "                        x1_rng=(-0.25, np.amax(linear_layer_input[:, 1])))"
   ]
  }
 ],
 "metadata": {
  "kernelspec": {
   "display_name": "Python 3",
   "language": "python",
   "name": "python3"
  },
  "language_info": {
   "codemirror_mode": {
    "name": "ipython",
    "version": 3
   },
   "file_extension": ".py",
   "mimetype": "text/x-python",
   "name": "python",
   "nbconvert_exporter": "python",
   "pygments_lexer": "ipython3",
   "version": "3.12.10"
  }
 },
 "nbformat": 4,
 "nbformat_minor": 5
}
