{
 "cells": [
  {
   "cell_type": "markdown",
   "id": "352892ca",
   "metadata": {},
   "source": [
    "## Coffee Roasting neural network with NumPy"
   ]
  },
  {
   "cell_type": "code",
   "execution_count": null,
   "id": "c04ddc0b",
   "metadata": {},
   "outputs": [],
   "source": [
    "import numpy as np\n",
    "import matplotlib.pyplot as plt\n",
    "import tensorflow as tf\n",
    "from tensorflow.keras.layers import Normalization # type: ignore\n",
    "from lab_utils_common import sigmoid\n",
    "from lab_coffee_utils import load_coffee_data, plt_roast\n",
    "\n",
    "# Allows us to manage and control the log messages\n",
    "import logging\n",
    "# Sets the logging level for tensorflow to show only errors\n",
    "logging.getLogger(\"tensorflow\").setLevel(logging.ERROR)\n",
    "# Controls the verbosity of tensorflow autograph i.e; python code to tensorflow graph code\n",
    "tf.autograph.set_verbosity(0)\n",
    "# Disables internal logging or output messages"
   ]
  },
  {
   "cell_type": "code",
   "execution_count": null,
   "id": "d5e7cf89",
   "metadata": {},
   "outputs": [],
   "source": [
    "x_train, y_train=load_coffee_data()\n",
    "print(x_train.shape, y_train.shape)"
   ]
  },
  {
   "cell_type": "code",
   "execution_count": null,
   "id": "a6dfbc4f",
   "metadata": {},
   "outputs": [],
   "source": [
    "plt_roast(x_train, y_train)"
   ]
  },
  {
   "cell_type": "code",
   "execution_count": null,
   "id": "c2616c29",
   "metadata": {},
   "outputs": [],
   "source": [
    "print(f\"Temperature max, min pre normalization: {np.max(x_train[:,0]):0.2f}, {np.min(x_train[:,0]):0.2f}\")\n",
    "print(f\"Duration max, min pre normalization: {np.max(x_train[:,1]):0.2f}, {np.min(x_train[:,1]):0.2f}\")\n",
    "\n",
    "norm_l=Normalization(axis=-1)\n",
    "norm_l.adapt(x_train)\n",
    "x_norm=norm_l(x_train)\n",
    "\n",
    "print(f\"Temperature max, min post normalization: {np.max(x_norm[:,0]):0.2f}, {np.min(x_norm[:,0]):0.2f}\")\n",
    "print(f\"Duration max, min post normalization: {np.max(x_norm[:,1]):0.2f}, {np.min(x_norm[:,1]):0.2f}\")"
   ]
  },
  {
   "cell_type": "markdown",
   "id": "6c01961b",
   "metadata": {},
   "source": [
    "### NumPy Model"
   ]
  },
  {
   "cell_type": "code",
   "execution_count": null,
   "id": "676f1863",
   "metadata": {},
   "outputs": [],
   "source": [
    "def dense_func(a_in, W, b, g):\n",
    "  units=W.shape[1]\n",
    "  a_out=np.zeros(units)\n",
    "\n",
    "  for i in range(units):\n",
    "    w=W[:, i]\n",
    "    z=np.dot(a_in, w)+b[i]\n",
    "    a_out[i]=g(z)\n",
    "\n",
    "  return a_out"
   ]
  },
  {
   "cell_type": "code",
   "execution_count": null,
   "id": "8164dbed",
   "metadata": {},
   "outputs": [],
   "source": [
    "def sequential_func(x, W1, b1, W2, b2):\n",
    "  a1=dense_func(x, W1, b1, sigmoid)\n",
    "  a2=dense_func(a1, W2, b2, sigmoid)\n",
    "\n",
    "  return a2"
   ]
  },
  {
   "cell_type": "code",
   "execution_count": null,
   "id": "0dede313",
   "metadata": {},
   "outputs": [],
   "source": [
    "W1_tmp=np.array([\n",
    "  [-8.93,  0.29, 12.9 ], \n",
    "  [-0.1,  -7.32, 10.81]])\n",
    "b1_tmp=np.array([-9.82, -9.28,  0.96])\n",
    "\n",
    "W2_tmp=np.array([\n",
    "  [-31.18], \n",
    "  [-27.59], \n",
    "  [-32.56]])\n",
    "b2_tmp=np.array([15.41])"
   ]
  },
  {
   "cell_type": "code",
   "execution_count": null,
   "id": "d5ae8448",
   "metadata": {},
   "outputs": [],
   "source": [
    "def predict_func(x, W1, b1, W2, b2):\n",
    "  m=x.shape[0]\n",
    "  p=np.zeros((m, 1))\n",
    "\n",
    "  for i in range(m):\n",
    "    p[i, 0]=sequential_func(x[i], W1, b1, W2, b2).item()\n",
    "\n",
    "  return p"
   ]
  },
  {
   "cell_type": "code",
   "execution_count": null,
   "id": "3263b071",
   "metadata": {},
   "outputs": [],
   "source": [
    "x_test=np.array([\n",
    "  [200, 13.9],\n",
    "  [200, 17]\n",
    "])\n",
    "\n",
    "x_test_norm=norm_l(x_test)\n",
    "predictions=predict_func(x_test_norm, W1_tmp, b1_tmp, W2_tmp, b2_tmp)\n",
    "print(f\"Predictions: {predictions}\")"
   ]
  },
  {
   "cell_type": "code",
   "execution_count": null,
   "id": "170afbfd",
   "metadata": {},
   "outputs": [],
   "source": [
    "y_pred=np.zeros_like(predictions)\n",
    "\n",
    "for i in range(len(predictions)):\n",
    "  if predictions[i]>=0.5:\n",
    "    y_pred[i]=1\n",
    "  else:\n",
    "    y_pred[i]=0\n",
    "\n",
    "print(f\"Decisions: {y_pred}\")"
   ]
  },
  {
   "cell_type": "code",
   "execution_count": null,
   "id": "f16f8a34",
   "metadata": {},
   "outputs": [],
   "source": [
    "y_hat=(predictions>=0.5).astype(int)\n",
    "print(f\"Decisions: {y_hat}\")"
   ]
  }
 ],
 "metadata": {
  "kernelspec": {
   "display_name": "Python 3",
   "language": "python",
   "name": "python3"
  },
  "language_info": {
   "codemirror_mode": {
    "name": "ipython",
    "version": 3
   },
   "file_extension": ".py",
   "mimetype": "text/x-python",
   "name": "python",
   "nbconvert_exporter": "python",
   "pygments_lexer": "ipython3",
   "version": "3.12.10"
  }
 },
 "nbformat": 4,
 "nbformat_minor": 5
}
