{
 "cells": [
  {
   "cell_type": "markdown",
   "id": "8324bc8a",
   "metadata": {},
   "source": [
    "## Decision Trees"
   ]
  },
  {
   "cell_type": "code",
   "execution_count": null,
   "id": "15ea8d39",
   "metadata": {},
   "outputs": [],
   "source": [
    "import numpy as np\n",
    "import pandas as pd\n",
    "import matplotlib.pyplot as plt\n",
    "%matplotlib inline\n",
    "from utils import *"
   ]
  },
  {
   "cell_type": "code",
   "execution_count": null,
   "id": "89b9d151",
   "metadata": {},
   "outputs": [],
   "source": [
    "plot_entropy()"
   ]
  },
  {
   "cell_type": "markdown",
   "id": "213b1390",
   "metadata": {},
   "source": [
    "### Dataset\n",
    "\n",
    "|                                                     |   Ear Shape | Face Shape | Whiskers |   Cat  |\n",
    "|:---------------------------------------------------:|:---------:|:-----------:|:---------:|:------:|\n",
    "| <img src=\"images/0.png\" alt=\"drawing\" width=\"50\"/> |   Pointy   |   Round     |  Present  |    1   |\n",
    "| <img src=\"images/1.png\" alt=\"drawing\" width=\"50\"/> |   Floppy   |  Not Round  |  Present  |    1   |\n",
    "| <img src=\"images/2.png\" alt=\"drawing\" width=\"50\"/> |   Floppy   |  Round      |  Absent   |    0   |\n",
    "| <img src=\"images/3.png\" alt=\"drawing\" width=\"50\"/> |   Pointy   |  Not Round  |  Present  |    0   |\n",
    "| <img src=\"images/4.png\" alt=\"drawing\" width=\"50\"/> |   Pointy   |   Round     |  Present  |    1   |\n",
    "| <img src=\"images/5.png\" alt=\"drawing\" width=\"50\"/> |   Pointy   |   Round     |  Absent   |    1   |\n",
    "| <img src=\"images/6.png\" alt=\"drawing\" width=\"50\"/> |   Floppy   |  Not Round  |  Absent   |    0   |\n",
    "| <img src=\"images/7.png\" alt=\"drawing\" width=\"50\"/> |   Pointy   |  Round      |  Absent   |    1   |\n",
    "| <img src=\"images/8.png\" alt=\"drawing\" width=\"50\"/> |    Floppy  |   Round     |  Absent   |    0   |\n",
    "| <img src=\"images/9.png\" alt=\"drawing\" width=\"50\"/> |   Floppy   |  Round      |  Absent   |    0   |\n",
    "\n",
    "\n",
    "We will use **one-hot encoding** to encode the categorical features. They will be as follows:\n",
    "\n",
    "- Ear Shape: Pointy = 1, Floppy = 0\n",
    "- Face Shape: Round = 1, Not Round = 0\n",
    "- Whiskers: Present = 1, Absent = 0\n",
    "\n",
    "Therefore, we have two sets:\n",
    "\n",
    "- `X_train`: for each example, contains 3 features:\n",
    "            - Ear Shape (1 if pointy, 0 otherwise)\n",
    "            - Face Shape (1 if round, 0 otherwise)\n",
    "            - Whiskers (1 if present, 0 otherwise)\n",
    "            \n",
    "- `y_train`: whether the animal is a cat\n",
    "            - 1 if the animal is a cat\n",
    "            - 0 otherwise"
   ]
  },
  {
   "cell_type": "code",
   "execution_count": null,
   "id": "5d722a48",
   "metadata": {},
   "outputs": [],
   "source": [
    "x_train=np.array([[1, 1, 1],\n",
    "                  [0, 0, 1],\n",
    "                  [0, 1, 0],\n",
    "                  [1, 0, 1],\n",
    "                  [1, 1, 1],\n",
    "                  [1, 1, 0],\n",
    "                  [0, 0, 0],\n",
    "                  [1, 1, 0],\n",
    "                  [0, 1, 0],\n",
    "                  [0, 1, 0]])\n",
    "\n",
    "y_train=np.array([1, 1, 0, 0, 1, 1, 0, 1, 0, 0])"
   ]
  },
  {
   "cell_type": "code",
   "execution_count": null,
   "id": "aefe352f",
   "metadata": {},
   "outputs": [],
   "source": [
    "def calc_entropy(p):\n",
    "  if p==0 or p==1:\n",
    "    return 0\n",
    "  else:\n",
    "    return (-p*np.log2(p))-((1-p)*np.log2(1-p))"
   ]
  },
  {
   "cell_type": "code",
   "execution_count": null,
   "id": "5a966442",
   "metadata": {},
   "outputs": [],
   "source": [
    "print(calc_entropy(0.75))"
   ]
  },
  {
   "cell_type": "code",
   "execution_count": null,
   "id": "5895abb0",
   "metadata": {},
   "outputs": [],
   "source": [
    "def split_indices(X, idx_feature):\n",
    "  \"\"\"Given a dataset and a index feature, return two lists for the two split nodes, the left node has the animals that have \n",
    "    that feature = 1 and the right node those that have the feature = 0 \n",
    "    index feature = 0 => ear shape\n",
    "    index feature = 1 => face shape\n",
    "    index feature = 2 => whiskers\n",
    "  \"\"\"\n",
    "\n",
    "  left_indices=[]\n",
    "  right_indices=[]\n",
    "\n",
    "  for i, x in enumerate(X):\n",
    "    if x[idx_feature]==1:\n",
    "      left_indices.append(i)\n",
    "    else:\n",
    "      right_indices.append(i)\n",
    "\n",
    "  return left_indices, right_indices"
   ]
  },
  {
   "cell_type": "markdown",
   "id": "148577b3",
   "metadata": {},
   "source": [
    "### Computing based on Ear-Shape"
   ]
  },
  {
   "cell_type": "code",
   "execution_count": null,
   "id": "e36e37cd",
   "metadata": {},
   "outputs": [],
   "source": [
    "print(split_indices(x_train, 0))"
   ]
  },
  {
   "cell_type": "code",
   "execution_count": null,
   "id": "eff64c95",
   "metadata": {},
   "outputs": [],
   "source": [
    "def weighted_entropy(X, y, left_idx, right_idx):\n",
    "  w_left=len(left_idx)/len(X)\n",
    "  w_right=len(right_idx)/len(X)\n",
    "\n",
    "  p_left=sum(y[left_idx])/len(left_idx)\n",
    "  p_right=sum(y[right_idx])/len(right_idx)\n",
    "\n",
    "  w_entropy=w_left*calc_entropy(p_left)+w_right*calc_entropy(p_right)\n",
    "  return w_entropy"
   ]
  },
  {
   "cell_type": "code",
   "execution_count": null,
   "id": "f4f86990",
   "metadata": {},
   "outputs": [],
   "source": [
    "left_idx, right_idx=split_indices(x_train, 0)\n",
    "print(weighted_entropy(x_train, y_train, left_idx, right_idx))"
   ]
  },
  {
   "cell_type": "code",
   "execution_count": null,
   "id": "537f1659",
   "metadata": {},
   "outputs": [],
   "source": [
    "def information_gain(X, y, left_idx, right_idx):\n",
    "  p_root=sum(y)/len(y)\n",
    "  h_node=calc_entropy(p_root)\n",
    "  w_entropy=weighted_entropy(X, y, left_idx, right_idx)\n",
    "\n",
    "  info_gain=h_node-w_entropy\n",
    "  return info_gain"
   ]
  },
  {
   "cell_type": "code",
   "execution_count": null,
   "id": "1782850f",
   "metadata": {},
   "outputs": [],
   "source": [
    "print(information_gain(x_train, y_train, left_idx, right_idx))"
   ]
  },
  {
   "cell_type": "code",
   "execution_count": null,
   "id": "fdac2b21",
   "metadata": {},
   "outputs": [],
   "source": [
    "features=['Ear Shape', 'Face Shape', 'Whiskers']\n",
    "\n",
    "for i, x in enumerate(features):\n",
    "  left_idx, right_idx=split_indices(x_train, i)\n",
    "  i_gain=information_gain(x_train, y_train, left_idx, right_idx)\n",
    "  print(f\"Feature: {x} ---> Information Gain if we split the root node using this feature: {i_gain}\")"
   ]
  },
  {
   "cell_type": "markdown",
   "id": "b0535237",
   "metadata": {},
   "source": [
    "The feature with `highest` information gain must be used to split the root node."
   ]
  },
  {
   "cell_type": "code",
   "execution_count": null,
   "id": "dcb51132",
   "metadata": {},
   "outputs": [],
   "source": [
    "tree=[]\n",
    "build_tree_recursive(x_train, y_train, [0, 1, 2, 3, 4, 5, 6, 7, 8, 9], \"Root\", max_depth=2, current_depth=0, tree=tree)\n",
    "\n",
    "generate_tree_viz([0, 1, 2, 3, 4, 5, 6, 7, 8, 9], y_train, tree)"
   ]
  },
  {
   "cell_type": "markdown",
   "id": "be4666f5",
   "metadata": {},
   "source": [
    "The process is **recursive**, which means we must perform these calculations for each node until we meet a stopping criteria:\n",
    "\n",
    "- If the tree depth after splitting exceeds a threshold\n",
    "- If the resulting node has only 1 class\n",
    "- If the information gain of splitting is below a threshold"
   ]
  }
 ],
 "metadata": {
  "kernelspec": {
   "display_name": "Python 3",
   "language": "python",
   "name": "python3"
  },
  "language_info": {
   "codemirror_mode": {
    "name": "ipython",
    "version": 3
   },
   "file_extension": ".py",
   "mimetype": "text/x-python",
   "name": "python",
   "nbconvert_exporter": "python",
   "pygments_lexer": "ipython3",
   "version": "3.12.10"
  }
 },
 "nbformat": 4,
 "nbformat_minor": 5
}
