{
 "cells": [
  {
   "cell_type": "markdown",
   "id": "515d487a",
   "metadata": {},
   "source": [
    "## K-Means Clustering"
   ]
  },
  {
   "cell_type": "code",
   "execution_count": null,
   "id": "cb8d1e42",
   "metadata": {},
   "outputs": [],
   "source": [
    "import numpy as np\n",
    "import matplotlib.pyplot as plt\n",
    "%matplotlib inline\n",
    "from utils import *\n",
    "from public_tests import *"
   ]
  },
  {
   "cell_type": "markdown",
   "id": "3e0c7f37",
   "metadata": {},
   "source": [
    "The `K-means` algorithm is a method to automatically cluster similar\n",
    "data points together into few cohesive `clusters`."
   ]
  },
  {
   "cell_type": "code",
   "execution_count": null,
   "id": "edfcda06",
   "metadata": {},
   "outputs": [],
   "source": [
    "def find_closest_centroids(x, centroids):\n",
    "  idx=np.zeros(x.shape[0], dtype=int)\n",
    "\n",
    "  for i in range(x.shape[0]):\n",
    "    distance=[]\n",
    "    for j in range(centroids.shape[0]):\n",
    "      # To calculate Euclidean distance\n",
    "      dist_ij=np.linalg.norm(x[i]-centroids[j])\n",
    "      distance.append(dist_ij)\n",
    "\n",
    "    idx[i]=np.argmin(distance)\n",
    "\n",
    "  return idx"
   ]
  },
  {
   "cell_type": "code",
   "execution_count": null,
   "id": "af51fa38",
   "metadata": {},
   "outputs": [],
   "source": [
    "x_train=load_data()"
   ]
  },
  {
   "cell_type": "code",
   "execution_count": null,
   "id": "2dd48b7a",
   "metadata": {},
   "outputs": [],
   "source": [
    "print(f\"First 5 elements of x_train:\\n{x_train[:5]}\")"
   ]
  },
  {
   "cell_type": "code",
   "execution_count": null,
   "id": "08d14bea",
   "metadata": {},
   "outputs": [],
   "source": [
    "print(x_train.shape)"
   ]
  },
  {
   "cell_type": "code",
   "execution_count": null,
   "id": "491fa2bf",
   "metadata": {},
   "outputs": [],
   "source": [
    "initial_centroids=np.array([\n",
    "  [3, 3],\n",
    "  [6, 2],\n",
    "  [8, 5]\n",
    "])"
   ]
  },
  {
   "cell_type": "code",
   "execution_count": null,
   "id": "b54575f5",
   "metadata": {},
   "outputs": [],
   "source": [
    "idx=find_closest_centroids(x_train, initial_centroids)"
   ]
  },
  {
   "cell_type": "code",
   "execution_count": null,
   "id": "a366224e",
   "metadata": {},
   "outputs": [],
   "source": [
    "print(f\"First 3 elements of idx: {idx[:3]}\")"
   ]
  },
  {
   "cell_type": "code",
   "execution_count": null,
   "id": "5e407ccf",
   "metadata": {},
   "outputs": [],
   "source": [
    "find_closest_centroids_test(find_closest_centroids)"
   ]
  },
  {
   "cell_type": "code",
   "execution_count": null,
   "id": "ae714234",
   "metadata": {},
   "outputs": [],
   "source": [
    "def compute_centroids(x, idx, K):\n",
    "  m, n=x.shape\n",
    "  computed_centroids=np.zeros((K, n))\n",
    "\n",
    "  for k in range(K):\n",
    "    points=x[idx==k]\n",
    "    computed_centroids[k]=np.mean(points, axis=0)\n",
    "\n",
    "  return computed_centroids"
   ]
  },
  {
   "cell_type": "code",
   "execution_count": null,
   "id": "801ed99d",
   "metadata": {},
   "outputs": [],
   "source": [
    "K=initial_centroids.shape[0]\n",
    "centroids=compute_centroids(x_train, idx, K)\n",
    "\n",
    "print(f\"Recomputed centroids are:\\n{centroids}\")"
   ]
  },
  {
   "cell_type": "code",
   "execution_count": null,
   "id": "32c06e01",
   "metadata": {},
   "outputs": [],
   "source": [
    "compute_centroids_test(compute_centroids)"
   ]
  },
  {
   "cell_type": "markdown",
   "id": "a43deb2a",
   "metadata": {},
   "source": [
    "### K-Means on a Sample Dataset"
   ]
  },
  {
   "cell_type": "code",
   "execution_count": null,
   "id": "4b8fd7fb",
   "metadata": {},
   "outputs": [],
   "source": [
    "def run_k_means(x, initial_centroids, max_iters=10, plot_progress=False):\n",
    "  m, n=x.shape\n",
    "  K=initial_centroids.shape[0]\n",
    "  centroids=initial_centroids\n",
    "  previous_centroids=centroids\n",
    "  idx=np.zeros(m)\n",
    "\n",
    "  for i in range(max_iters):\n",
    "    print(f\"K-Means iteration: {i}/{max_iters-1}\")\n",
    "\n",
    "    idx=find_closest_centroids(x, centroids)\n",
    "\n",
    "    if plot_progress:\n",
    "      plot_progress_kMeans(x, centroids, previous_centroids, idx, K, i)\n",
    "      previous_centroids=centroids\n",
    "\n",
    "    centroids=compute_centroids(x, idx, K)\n",
    "\n",
    "  plt.show()\n",
    "  return centroids, idx"
   ]
  },
  {
   "cell_type": "code",
   "execution_count": null,
   "id": "b61421fd",
   "metadata": {},
   "outputs": [],
   "source": [
    "max_iters=10\n",
    "\n",
    "centroids, idx=run_k_means(x_train, initial_centroids, max_iters, plot_progress=True)"
   ]
  },
  {
   "cell_type": "markdown",
   "id": "173525ea",
   "metadata": {},
   "source": [
    "### Random Initialization"
   ]
  },
  {
   "cell_type": "code",
   "execution_count": null,
   "id": "4cea8aee",
   "metadata": {},
   "outputs": [],
   "source": [
    "def k_means_init_centroids(x, K):\n",
    "  # Randomly reorder the indices of the dataset\n",
    "  rand_idx=np.random.permutation(x.shape[0])\n",
    "  centroids=x[rand_idx[:K]]\n",
    "\n",
    "  return centroids"
   ]
  },
  {
   "cell_type": "code",
   "execution_count": null,
   "id": "69ed728a",
   "metadata": {},
   "outputs": [],
   "source": [
    "K=3\n",
    "init_centroids=k_means_init_centroids(x_train, K)\n",
    "\n",
    "print(init_centroids)"
   ]
  },
  {
   "cell_type": "markdown",
   "id": "7b1e9aba",
   "metadata": {},
   "source": [
    "### Image Compression with K-Means"
   ]
  },
  {
   "cell_type": "code",
   "execution_count": null,
   "id": "32ecb2b1",
   "metadata": {},
   "outputs": [],
   "source": [
    "img=plt.imread(\"data/bird_small.png\")\n",
    "plt.imshow(img)"
   ]
  },
  {
   "cell_type": "code",
   "execution_count": null,
   "id": "f9ca79af",
   "metadata": {},
   "outputs": [],
   "source": [
    "print(img.shape)"
   ]
  },
  {
   "cell_type": "code",
   "execution_count": null,
   "id": "d835e33a",
   "metadata": {},
   "outputs": [],
   "source": [
    "img=img/255 # To make all values lie in the range 0 to 1\n",
    "\n",
    "# Conversion of 3D image to a 2D vector\n",
    "x_img=np.reshape(img, (img.shape[0]*img.shape[1], 3))"
   ]
  },
  {
   "cell_type": "code",
   "execution_count": null,
   "id": "4169aee1",
   "metadata": {},
   "outputs": [],
   "source": [
    "# We have to reduce the colors in the image to 16\n",
    "\n",
    "K=16\n",
    "max_iters=10\n",
    "\n",
    "initial_centroids=k_means_init_centroids(x_img, K)\n",
    "\n",
    "centroids, idx=run_k_means(x_img, initial_centroids, max_iters, plot_progress=True)"
   ]
  },
  {
   "cell_type": "code",
   "execution_count": null,
   "id": "fc8abd72",
   "metadata": {},
   "outputs": [],
   "source": [
    "print(idx.shape)"
   ]
  },
  {
   "cell_type": "markdown",
   "id": "7cf82a21",
   "metadata": {},
   "source": [
    "### Compressing the Image"
   ]
  },
  {
   "cell_type": "code",
   "execution_count": null,
   "id": "598802c7",
   "metadata": {},
   "outputs": [],
   "source": [
    "# Represent Image in terms of indices\n",
    "x_recovered=centroids[idx, :]\n",
    "x_recovered=np.reshape(x_recovered, img.shape)"
   ]
  },
  {
   "cell_type": "code",
   "execution_count": null,
   "id": "d490f178",
   "metadata": {},
   "outputs": [],
   "source": [
    "fig, ax=plt.subplots(1, 2, figsize=(8, 8))\n",
    "plt.axis('off')\n",
    "\n",
    "ax[0].imshow(img*255)\n",
    "ax[0].set_title(\"Original Image\")\n",
    "ax[0].set_axis_off()\n",
    "\n",
    "ax[1].imshow(x_recovered*255)\n",
    "ax[1].set_title(f\"Compressed with {K} colours\")\n",
    "ax[1].set_axis_off()"
   ]
  }
 ],
 "metadata": {
  "kernelspec": {
   "display_name": "Python 3",
   "language": "python",
   "name": "python3"
  },
  "language_info": {
   "codemirror_mode": {
    "name": "ipython",
    "version": 3
   },
   "file_extension": ".py",
   "mimetype": "text/x-python",
   "name": "python",
   "nbconvert_exporter": "python",
   "pygments_lexer": "ipython3",
   "version": "3.12.10"
  }
 },
 "nbformat": 4,
 "nbformat_minor": 5
}
