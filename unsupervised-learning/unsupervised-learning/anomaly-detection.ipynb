{
 "cells": [
  {
   "cell_type": "markdown",
   "id": "3ae67a86",
   "metadata": {},
   "source": [
    "## Anomaly Detection"
   ]
  },
  {
   "cell_type": "markdown",
   "id": "e0a0063d",
   "metadata": {},
   "source": [
    "### Choosing features"
   ]
  },
  {
   "cell_type": "code",
   "execution_count": null,
   "id": "07844936",
   "metadata": {},
   "outputs": [],
   "source": [
    "from scipy.stats import skewnorm\n",
    "import matplotlib.pyplot as plt\n",
    "\n",
    "num_values=10000\n",
    "max_value=100\n",
    "# -ve values: left skewed, +ve values: right skewed\n",
    "skewness=20\n",
    "\n",
    "random=skewnorm.rvs(a=skewness, loc=max_value, size=num_values)\n",
    "\n",
    "# Shift the set so that min value is equal to 0\n",
    "random=random-min(random)\n",
    "# Standardize all the values between 0 and 1\n",
    "random=random/max(random)\n",
    "# Multiply standardized values by the maximum value\n",
    "random=random*max_value\n",
    "\n",
    "x=random\n",
    "plt.hist(x, bins=50)"
   ]
  },
  {
   "cell_type": "code",
   "execution_count": null,
   "id": "aed967b6",
   "metadata": {},
   "outputs": [],
   "source": [
    "plt.hist(x**0.5, bins=50)"
   ]
  },
  {
   "cell_type": "code",
   "execution_count": null,
   "id": "a3893ee7",
   "metadata": {},
   "outputs": [],
   "source": [
    "plt.hist(x**0.4, bins=50)"
   ]
  },
  {
   "cell_type": "code",
   "execution_count": null,
   "id": "4030cf1f",
   "metadata": {},
   "outputs": [],
   "source": [
    "import numpy as np\n",
    "\n",
    "plt.hist(np.log(x+0.001), bins=50)"
   ]
  },
  {
   "cell_type": "code",
   "execution_count": null,
   "id": "acfcf13b",
   "metadata": {},
   "outputs": [],
   "source": [
    "plt.hist(np.log(x+7), bins=50)"
   ]
  },
  {
   "cell_type": "code",
   "execution_count": null,
   "id": "29574d46",
   "metadata": {},
   "outputs": [],
   "source": [
    "import numpy as np\n",
    "import matplotlib.pyplot as plt\n",
    "%matplotlib inline\n",
    "from utils_ad import *\n",
    "from public_tests_ad import *"
   ]
  },
  {
   "cell_type": "markdown",
   "id": "d329a6dd",
   "metadata": {},
   "source": [
    "### Dataset"
   ]
  },
  {
   "cell_type": "markdown",
   "id": "44956fed",
   "metadata": {},
   "source": [
    "The dataset contains two features - \n",
    "   * throughput (mb/s) and \n",
    "   * latency (ms) of response of each server."
   ]
  },
  {
   "cell_type": "code",
   "execution_count": null,
   "id": "66441b42",
   "metadata": {},
   "outputs": [],
   "source": [
    "x_train, x_val, y_val=load_data()"
   ]
  },
  {
   "cell_type": "code",
   "execution_count": null,
   "id": "d2f5faa4",
   "metadata": {},
   "outputs": [],
   "source": [
    "print(x_train[:5])"
   ]
  },
  {
   "cell_type": "code",
   "execution_count": null,
   "id": "b792d7eb",
   "metadata": {},
   "outputs": [],
   "source": [
    "print(x_val[:5])"
   ]
  },
  {
   "cell_type": "code",
   "execution_count": null,
   "id": "8fd2fc9a",
   "metadata": {},
   "outputs": [],
   "source": [
    "print(y_val[:5])"
   ]
  },
  {
   "cell_type": "code",
   "execution_count": null,
   "id": "5e283d3c",
   "metadata": {},
   "outputs": [],
   "source": [
    "print(x_train.shape, x_val.shape, y_val.shape)"
   ]
  },
  {
   "cell_type": "code",
   "execution_count": null,
   "id": "7ef85285",
   "metadata": {},
   "outputs": [],
   "source": [
    "plt.scatter(x_train[:, 0], x_train[:, 1], marker='x', c='b')\n",
    "\n",
    "plt.title('Training Dataset')\n",
    "plt.xlabel('Latency (ms)')\n",
    "plt.ylabel('Throughput (mb/s)')\n",
    "plt.axis([0, 30, 0, 30])\n",
    "plt.show()"
   ]
  },
  {
   "cell_type": "code",
   "execution_count": null,
   "id": "eabcaa51",
   "metadata": {},
   "outputs": [],
   "source": [
    "def estimate_gaussian(x):\n",
    "  m, n=x.shape\n",
    "\n",
    "  mean=1/m*(np.sum(x, axis=0))\n",
    "  variance=1/m*(np.sum((x-mean)**2, axis=0))\n",
    "\n",
    "  return mean, variance"
   ]
  },
  {
   "cell_type": "code",
   "execution_count": null,
   "id": "6c212ee4",
   "metadata": {},
   "outputs": [],
   "source": [
    "mean, variance=estimate_gaussian(x_train)\n",
    "\n",
    "print(f\"Mean of each feature: {mean}\")\n",
    "print(f\"Variance of each feature: {variance}\")\n",
    "\n",
    "estimate_gaussian_test(estimate_gaussian)"
   ]
  },
  {
   "cell_type": "code",
   "execution_count": null,
   "id": "1a3be61a",
   "metadata": {},
   "outputs": [],
   "source": [
    "# Returns the density\n",
    "p=multivariate_gaussian(x_train, mean, variance)\n",
    "\n",
    "visualize_fit(x_train, mean, variance)"
   ]
  },
  {
   "cell_type": "code",
   "execution_count": null,
   "id": "87519ae9",
   "metadata": {},
   "outputs": [],
   "source": [
    "def select_threshold(y_val, p_val):\n",
    "  best_threshold=0\n",
    "  best_F1=0\n",
    "  F1=0\n",
    "  step_size=(max(p_val)-min(p_val))/1000\n",
    "\n",
    "  for epsilon in np.arange(min(p_val), max(p_val), step_size):\n",
    "    predictions=(p_val<epsilon)\n",
    "    tp=np.sum((predictions==1) & (y_val==1))\n",
    "    fn=np.sum((predictions==0) & (y_val==1))\n",
    "    fp=np.sum((predictions==1) & (y_val==0))\n",
    "\n",
    "    prec=tp/(tp+fp)\n",
    "    recall=tp/(tp+fn)\n",
    "\n",
    "    F1=(2*prec*recall)/(prec+recall)\n",
    "\n",
    "    if F1>best_F1:\n",
    "      best_F1=F1\n",
    "      best_threshold=epsilon\n",
    "\n",
    "  return best_threshold, best_F1"
   ]
  },
  {
   "cell_type": "code",
   "execution_count": null,
   "id": "8904d55a",
   "metadata": {},
   "outputs": [],
   "source": [
    "p_val=multivariate_gaussian(x_train, mean, variance)\n",
    "epsilon, F1=select_threshold(y_val, p_val)\n",
    "\n",
    "print(f\"Best threshold found using cross validation set: {epsilon}\")\n",
    "print(f\"Best F1 score using cross validation set: {F1}\")\n",
    "\n",
    "select_threshold_test(select_threshold)"
   ]
  },
  {
   "cell_type": "code",
   "execution_count": null,
   "id": "f40c83c1",
   "metadata": {},
   "outputs": [],
   "source": [
    "outliers=p<epsilon\n",
    "\n",
    "visualize_fit(x_train, mean, variance)\n",
    "\n",
    "plt.plot(x_train[outliers, 0], x_train[outliers, 1], 'ro',\n",
    "         markerfacecolor='none', markeredgewidth=2)"
   ]
  },
  {
   "cell_type": "markdown",
   "id": "185cbcf5",
   "metadata": {},
   "source": [
    "### Using High Dimensional Dataset"
   ]
  },
  {
   "cell_type": "code",
   "execution_count": null,
   "id": "8beeeb10",
   "metadata": {},
   "outputs": [],
   "source": [
    "x_train_high, x_val_high, y_val_high=load_data_multi()"
   ]
  },
  {
   "cell_type": "code",
   "execution_count": null,
   "id": "986abad7",
   "metadata": {},
   "outputs": [],
   "source": [
    "print(x_train_high.shape, x_val_high.shape, y_val_high.shape)"
   ]
  },
  {
   "cell_type": "code",
   "execution_count": null,
   "id": "23156ad4",
   "metadata": {},
   "outputs": [],
   "source": [
    "# Estimate the gaussian parameters\n",
    "mean_high, variance_high=estimate_gaussian(x_train_high)\n",
    "\n",
    "# Evaluate the probabilities of training set\n",
    "p_high=multivariate_gaussian(x_train_high, mean_high, variance_high)\n",
    "\n",
    "# Evaluate the probabilities of cross validation set\n",
    "p_val_high=multivariate_gaussian(x_val_high, mean_high, variance_high)\n",
    "\n",
    "# Finding best threshold\n",
    "epsilon_high, F1_high=select_threshold(y_val_high, p_val_high)\n",
    "\n",
    "print(epsilon_high, F1_high)\n",
    "print(f\"Number of anomalies found: {sum(p_high<epsilon_high)}\")"
   ]
  }
 ],
 "metadata": {
  "kernelspec": {
   "display_name": "Python 3",
   "language": "python",
   "name": "python3"
  },
  "language_info": {
   "codemirror_mode": {
    "name": "ipython",
    "version": 3
   },
   "file_extension": ".py",
   "mimetype": "text/x-python",
   "name": "python",
   "nbconvert_exporter": "python",
   "pygments_lexer": "ipython3",
   "version": "3.12.10"
  }
 },
 "nbformat": 4,
 "nbformat_minor": 5
}
