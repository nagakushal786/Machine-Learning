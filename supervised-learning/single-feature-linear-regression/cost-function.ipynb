{
 "cells": [
  {
   "cell_type": "markdown",
   "id": "abafbef5",
   "metadata": {},
   "source": [
    "## Cost function"
   ]
  },
  {
   "cell_type": "code",
   "execution_count": null,
   "id": "824979af",
   "metadata": {},
   "outputs": [],
   "source": [
    "import numpy as np\n",
    "import matplotlib.pyplot as plt\n",
    "%matplotlib inline\n",
    "from lab_utils_uni import plt_intuition, plt_stationary, plt_update_onclick, soup_bowl"
   ]
  },
  {
   "cell_type": "markdown",
   "id": "118b0a98",
   "metadata": {},
   "source": [
    "A simple data set with only two data points - a house with 1000 square feet(sqft) sold for `$300,000` and a house with 2000 square feet sold for `$500,000`. These two points will constitute our *data or training set*. Here, the units of size are 1000 sqft and the units of price are 1000s of dollars.\n",
    "\n",
    "| Size (1000 sqft)     | Price (1000s of dollars) |\n",
    "| -------------------| ------------------------ |\n",
    "| 1.0               | 300                      |\n",
    "| 2.0               | 500                      |"
   ]
  },
  {
   "cell_type": "code",
   "execution_count": null,
   "id": "cf03ca33",
   "metadata": {},
   "outputs": [],
   "source": [
    "x_train=np.array([1.0, 2.0])\n",
    "y_train=np.array([300.0, 500.0])\n",
    "\n",
    "print(x_train, y_train)"
   ]
  },
  {
   "cell_type": "markdown",
   "id": "c9d5b6cd",
   "metadata": {},
   "source": [
    "`Cost function`: Cost function is a measure of how well our model is predicting the target variable."
   ]
  },
  {
   "cell_type": "code",
   "execution_count": null,
   "id": "90d6e70a",
   "metadata": {},
   "outputs": [],
   "source": [
    "def compute_cost_function(x, y, w, b):\n",
    "  m=x.shape[0]\n",
    "\n",
    "  cost_sum=0\n",
    "  for i in range(m):\n",
    "    f_wb=w*x[i]+b\n",
    "    cost=(f_wb-y[i])**2\n",
    "    cost_sum=cost_sum+cost\n",
    "\n",
    "  total_cost=(1/(2*m))*cost_sum\n",
    "\n",
    "  return total_cost"
   ]
  },
  {
   "cell_type": "code",
   "execution_count": null,
   "id": "b2851ef0",
   "metadata": {},
   "outputs": [],
   "source": [
    "# Cost function intuition\n",
    "plt_intuition(x_train, y_train)"
   ]
  },
  {
   "cell_type": "code",
   "execution_count": null,
   "id": "ff66b860",
   "metadata": {},
   "outputs": [],
   "source": [
    "x_diff_train=np.array([1.0, 1.7, 2.0, 2.5, 3.0, 3.2])\n",
    "y_diff_train=np.array([250, 300, 480, 430, 630, 730])"
   ]
  },
  {
   "cell_type": "code",
   "execution_count": null,
   "id": "85d1a314",
   "metadata": {},
   "outputs": [],
   "source": [
    "# Cost function 3D visualization\n",
    "plt.close('all')\n",
    "fig, ax, dyn_items=plt_stationary(x_diff_train, y_diff_train)\n",
    "updater=plt_update_onclick(fig, ax, x_diff_train, y_diff_train, dyn_items)"
   ]
  },
  {
   "cell_type": "code",
   "execution_count": null,
   "id": "7bd88342",
   "metadata": {},
   "outputs": [],
   "source": [
    "# Convex cost surface\n",
    "soup_bowl()"
   ]
  }
 ],
 "metadata": {
  "kernelspec": {
   "display_name": "Python 3",
   "language": "python",
   "name": "python3"
  },
  "language_info": {
   "codemirror_mode": {
    "name": "ipython",
    "version": 3
   },
   "file_extension": ".py",
   "mimetype": "text/x-python",
   "name": "python",
   "nbconvert_exporter": "python",
   "pygments_lexer": "ipython3",
   "version": "3.12.10"
  }
 },
 "nbformat": 4,
 "nbformat_minor": 5
}
