{
 "cells": [
  {
   "cell_type": "markdown",
   "id": "07ff1459",
   "metadata": {},
   "source": [
    "## Model representation"
   ]
  },
  {
   "cell_type": "code",
   "execution_count": null,
   "id": "f2a0db36",
   "metadata": {},
   "outputs": [],
   "source": [
    "import numpy as np\n",
    "import matplotlib.pyplot as plt"
   ]
  },
  {
   "cell_type": "markdown",
   "id": "1c7bf954",
   "metadata": {},
   "source": [
    "A simple data set with only two data points - a house with 1000 square feet(sqft) sold for `$300,000` and a house with 2000 square feet sold for `$500,000`. These two points will constitute our *data or training set*. Here, the units of size are 1000 sqft and the units of price are 1000s of dollars.\n",
    "\n",
    "| Size (1000 sqft)     | Price (1000s of dollars) |\n",
    "| -------------------| ------------------------ |\n",
    "| 1.0               | 300                      |\n",
    "| 2.0               | 500                      |"
   ]
  },
  {
   "cell_type": "code",
   "execution_count": null,
   "id": "c4ccef54",
   "metadata": {},
   "outputs": [],
   "source": [
    "x_train=np.array([1.0, 2.0])\n",
    "y_train=np.array([300.0, 500.0])\n",
    "\n",
    "print(x_train, y_train)"
   ]
  },
  {
   "cell_type": "code",
   "execution_count": null,
   "id": "71d42d46",
   "metadata": {},
   "outputs": [],
   "source": [
    "m=x_train.shape[0]\n",
    "print(f'The number of training examples (m): {m}')"
   ]
  },
  {
   "cell_type": "code",
   "execution_count": null,
   "id": "68723df3",
   "metadata": {},
   "outputs": [],
   "source": [
    "plt.plot(x_train, y_train, 'o--r')\n",
    "plt.title('Housing prices')\n",
    "plt.xlabel('Size (1000 sqft)')\n",
    "plt.ylabel('Price (1000 dollars)')"
   ]
  },
  {
   "cell_type": "code",
   "execution_count": null,
   "id": "0543e730",
   "metadata": {},
   "outputs": [],
   "source": [
    "w=100\n",
    "b=100"
   ]
  },
  {
   "cell_type": "code",
   "execution_count": null,
   "id": "b06850e8",
   "metadata": {},
   "outputs": [],
   "source": [
    "def compute_model_output(x, w, b):\n",
    "  m=x.shape[0]\n",
    "  f_wb=np.zeros(m)\n",
    "\n",
    "  for i in range(m):\n",
    "    f_wb[i]=w*x[i]+b\n",
    "\n",
    "  return f_wb"
   ]
  },
  {
   "cell_type": "code",
   "execution_count": null,
   "id": "66128347",
   "metadata": {},
   "outputs": [],
   "source": [
    "pred_y_train=compute_model_output(x_train, w, b)\n",
    "\n",
    "# Plot of predicted housing prices\n",
    "plt.plot(x_train, pred_y_train, 'o--b')\n",
    "\n",
    "# Plot of actual housing prices\n",
    "plt.plot(x_train, y_train, 'x-r')\n",
    "\n",
    "plt.title('Housing prices')\n",
    "plt.xlabel('Size (1000 sqft)')\n",
    "plt.ylabel('Price (1000 dollars)')\n",
    "plt.legend(['Predicted', 'Actual'])"
   ]
  }
 ],
 "metadata": {
  "kernelspec": {
   "display_name": "Python 3",
   "language": "python",
   "name": "python3"
  },
  "language_info": {
   "codemirror_mode": {
    "name": "ipython",
    "version": 3
   },
   "file_extension": ".py",
   "mimetype": "text/x-python",
   "name": "python",
   "nbconvert_exporter": "python",
   "pygments_lexer": "ipython3",
   "version": "3.12.10"
  }
 },
 "nbformat": 4,
 "nbformat_minor": 5
}
