{
 "cells": [
  {
   "cell_type": "markdown",
   "id": "e0586731",
   "metadata": {},
   "source": [
    "## Multiple feature linear regression"
   ]
  },
  {
   "cell_type": "code",
   "execution_count": null,
   "id": "ce58dbd5",
   "metadata": {},
   "outputs": [],
   "source": [
    "import copy, math\n",
    "import numpy as np\n",
    "import matplotlib.pyplot as plt\n",
    "np.set_printoptions(precision=2)"
   ]
  },
  {
   "cell_type": "markdown",
   "id": "340b5089",
   "metadata": {},
   "source": [
    "The training dataset contains three examples with four features (size, bedrooms, floors and, age) shown in the table below.\n",
    "\n",
    "| Size (sqft) | Number of Bedrooms  | Number of floors | Age of  Home | Price (1000s dollars)  |   \n",
    "| ----------------| ------------------- |----------------- |--------------|-------------- |  \n",
    "| 2104            | 5                   | 1                | 45           | 460           |  \n",
    "| 1416            | 3                   | 2                | 40           | 232           |  \n",
    "| 852             | 2                   | 1                | 35           | 178           |  \n",
    "\n",
    "We will build a linear regression model using these values so that we can then predict the price for other houses. For example, a house with 1200 sqft, 3 bedrooms, 1 floor, 40 years old."
   ]
  },
  {
   "cell_type": "code",
   "execution_count": null,
   "id": "0b8feb55",
   "metadata": {},
   "outputs": [],
   "source": [
    "x_train=np.array([[2104, 5, 1, 45], [1416, 3, 2, 40], [852, 2, 1, 35]])\n",
    "y_train=np.array([460, 232, 178])"
   ]
  },
  {
   "cell_type": "code",
   "execution_count": null,
   "id": "706f823a",
   "metadata": {},
   "outputs": [],
   "source": [
    "print(x_train, x_train.shape, type(x_train))\n",
    "\n",
    "print(y_train, y_train.shape, type(y_train))"
   ]
  },
  {
   "cell_type": "code",
   "execution_count": null,
   "id": "d0fe0ce8",
   "metadata": {},
   "outputs": [],
   "source": [
    "w_init=np.array([0.39133535, 18.75376741, -53.36032453, -26.42131618])\n",
    "b_init=785.1811367994083"
   ]
  },
  {
   "cell_type": "markdown",
   "id": "3098cdf9",
   "metadata": {},
   "source": [
    "### Model computation"
   ]
  },
  {
   "cell_type": "code",
   "execution_count": null,
   "id": "121f5dd5",
   "metadata": {},
   "outputs": [],
   "source": [
    "def compute_model(x, w, b):\n",
    "  m=x.shape[0]\n",
    "  f_wb=np.zeros(m)\n",
    "\n",
    "  for i in range(m):\n",
    "    f_wb[i]=np.dot(w, x[i])+b\n",
    "\n",
    "  return f_wb"
   ]
  },
  {
   "cell_type": "code",
   "execution_count": null,
   "id": "ec1abd2e",
   "metadata": {},
   "outputs": [],
   "source": [
    "f_wb_calc=compute_model(x_train, w_init, b_init)\n",
    "print(f_wb_calc)"
   ]
  },
  {
   "cell_type": "markdown",
   "id": "15d71f9b",
   "metadata": {},
   "source": [
    "### Cost function computation"
   ]
  },
  {
   "cell_type": "code",
   "execution_count": null,
   "id": "49fbf283",
   "metadata": {},
   "outputs": [],
   "source": [
    "def compute_cost_function(x, y, w, b):\n",
    "  m=x.shape[0]\n",
    "  cost=0\n",
    "\n",
    "  for i in range(m):\n",
    "    f_wb_i=np.dot(w, x[i])+b\n",
    "    cost+=(f_wb_i-y[i])**2\n",
    "\n",
    "  cost=cost/(2*m)\n",
    "  return cost"
   ]
  },
  {
   "cell_type": "code",
   "execution_count": null,
   "id": "d6c8094d",
   "metadata": {},
   "outputs": [],
   "source": [
    "J_calc=compute_cost_function(x_train, y_train, w_init, b_init)\n",
    "print(J_calc)"
   ]
  },
  {
   "cell_type": "markdown",
   "id": "d71af893",
   "metadata": {},
   "source": [
    "### Gradient computation"
   ]
  },
  {
   "cell_type": "code",
   "execution_count": null,
   "id": "75b1b621",
   "metadata": {},
   "outputs": [],
   "source": [
    "def compute_gradient(x, y, w, b):\n",
    "  m, n=x.shape\n",
    "  dj_dw=np.zeros((n,))\n",
    "  dj_db=0\n",
    "\n",
    "  for i in range(m):\n",
    "    error=(np.dot(w, x[i])+b)-y[i]\n",
    "    for j in range(n):\n",
    "      dj_dw[j]=dj_dw[j]+error*x[i, j]\n",
    "    dj_db=dj_db+error\n",
    "\n",
    "  dj_dw=dj_dw/m\n",
    "  dj_db=dj_db/m\n",
    "\n",
    "  return dj_dw, dj_db"
   ]
  },
  {
   "cell_type": "code",
   "execution_count": null,
   "id": "fc7c6cb2",
   "metadata": {},
   "outputs": [],
   "source": [
    "dj_dw_calc, dj_db_calc=compute_gradient(x_train, y_train, w_init, b_init)\n",
    "print(dj_dw_calc, dj_db_calc)"
   ]
  },
  {
   "cell_type": "markdown",
   "id": "4c00b442",
   "metadata": {},
   "source": [
    "### Gradient descent computation"
   ]
  },
  {
   "cell_type": "code",
   "execution_count": null,
   "id": "057d8a29",
   "metadata": {},
   "outputs": [],
   "source": [
    "def gradient_descent(x, y, w_in, b_in, alpha, num_iters, cost_func, grad_func):\n",
    "  J_hist=[]\n",
    "  w=copy.deepcopy(w_in)\n",
    "  b=b_in\n",
    "\n",
    "  for i in range(num_iters):\n",
    "    dj_dw, dj_db=grad_func(x, y, w, b)\n",
    "\n",
    "    w=w-alpha*dj_dw\n",
    "    b=b-alpha*dj_db\n",
    "\n",
    "    if i<100000:\n",
    "      J_hist.append(cost_func(x, y, w, b))\n",
    "\n",
    "    if i%math.ceil(num_iters/10)==0:\n",
    "      print(f'Iteration {i:4d}: Cost {J_hist[-1]:8.2f}')\n",
    "\n",
    "  return w, b, J_hist"
   ]
  },
  {
   "cell_type": "code",
   "execution_count": null,
   "id": "2a0ed0c0",
   "metadata": {},
   "outputs": [],
   "source": [
    "initial_w=np.zeros_like(w_init)\n",
    "initial_b=0\n",
    "\n",
    "iterations=1000\n",
    "alpha=5.0e-7\n",
    "\n",
    "w_final, b_final, J_history=gradient_descent(x_train, y_train, initial_w, initial_b, \n",
    "                                             alpha, iterations, \n",
    "                                             compute_cost_function, compute_gradient)\n",
    "\n",
    "print(f'w, b found by gradient descent: {w_final}, {b_final:0.2f}')\n",
    "\n",
    "m, _=x_train.shape\n",
    "\n",
    "for i in range(m):\n",
    "  print(f'Predicted: {np.dot(x_train[i], w_final)+b_final:0.2f}, Target: {y_train[i]}')"
   ]
  },
  {
   "cell_type": "markdown",
   "id": "884b8f02",
   "metadata": {},
   "source": [
    "### Plotting"
   ]
  },
  {
   "cell_type": "code",
   "execution_count": null,
   "id": "042e860d",
   "metadata": {},
   "outputs": [],
   "source": [
    "fig, (ax1, ax2)=plt.subplots(1, 2, constrained_layout=True, figsize=(12, 4))\n",
    "\n",
    "ax1.plot(J_history)\n",
    "ax2.plot(100+np.arange(len(J_history[100:])), J_history[100:])\n",
    "\n",
    "ax1.set_title('Cost vs Iterations(start)')\n",
    "ax1.set_xlabel('Iteration step')\n",
    "ax1.set_ylabel('Cost')\n",
    "\n",
    "ax2.set_title('Cost vs Iterations(end)')\n",
    "ax2.set_xlabel('Iteration step')\n",
    "ax2.set_ylabel('Cost')\n",
    "\n",
    "plt.show()"
   ]
  }
 ],
 "metadata": {
  "kernelspec": {
   "display_name": "Python 3",
   "language": "python",
   "name": "python3"
  },
  "language_info": {
   "codemirror_mode": {
    "name": "ipython",
    "version": 3
   },
   "file_extension": ".py",
   "mimetype": "text/x-python",
   "name": "python",
   "nbconvert_exporter": "python",
   "pygments_lexer": "ipython3",
   "version": "3.12.10"
  }
 },
 "nbformat": 4,
 "nbformat_minor": 5
}
