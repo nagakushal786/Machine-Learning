{
 "cells": [
  {
   "cell_type": "markdown",
   "id": "476de237",
   "metadata": {},
   "source": [
    "## Linear regression using Scikit-Learn"
   ]
  },
  {
   "cell_type": "code",
   "execution_count": null,
   "id": "f338b84e",
   "metadata": {},
   "outputs": [],
   "source": [
    "import numpy as np\n",
    "import matplotlib.pyplot as plt\n",
    "from sklearn.linear_model import LinearRegression\n",
    "from lab_utils_multi import load_house_data\n",
    "np.set_printoptions(precision=2)"
   ]
  },
  {
   "cell_type": "code",
   "execution_count": null,
   "id": "3303e6d2",
   "metadata": {},
   "outputs": [],
   "source": [
    "x_train=np.array([1.0, 2.0])\n",
    "y_train=np.array([300, 500])"
   ]
  },
  {
   "cell_type": "code",
   "execution_count": null,
   "id": "ae0e3b89",
   "metadata": {},
   "outputs": [],
   "source": [
    "linear_model=LinearRegression()\n",
    "linear_model.fit(x_train.reshape(-1, 1), y_train)\n",
    "\n",
    "# x_train must be a 2-D matrix"
   ]
  },
  {
   "cell_type": "code",
   "execution_count": null,
   "id": "3db75662",
   "metadata": {},
   "outputs": [],
   "source": [
    "w=linear_model.coef_\n",
    "b=linear_model.intercept_\n",
    "\n",
    "print(f'Weight: {w}, bias: {b:0.3f}')"
   ]
  },
  {
   "cell_type": "code",
   "execution_count": null,
   "id": "17823897",
   "metadata": {},
   "outputs": [],
   "source": [
    "y_pred=linear_model.predict(x_train.reshape(-1, 1))\n",
    "print(f'Prediction on training set: {y_pred}')"
   ]
  },
  {
   "cell_type": "code",
   "execution_count": null,
   "id": "a60e3e71",
   "metadata": {},
   "outputs": [],
   "source": [
    "x_test=np.array([[1200]])\n",
    "print(f'Prediction for 1200 sqft house: ${linear_model.predict(x_test)[0]:0.2f}')"
   ]
  },
  {
   "cell_type": "markdown",
   "id": "6c71f806",
   "metadata": {},
   "source": [
    "### Prediction using the dataset"
   ]
  },
  {
   "cell_type": "code",
   "execution_count": null,
   "id": "3922dc6d",
   "metadata": {},
   "outputs": [],
   "source": [
    "x_train, y_train=load_house_data()\n",
    "x_features=['size(sqft)', 'bedrooms', 'floors', 'age']"
   ]
  },
  {
   "cell_type": "code",
   "execution_count": null,
   "id": "2521c824",
   "metadata": {},
   "outputs": [],
   "source": [
    "linear_model=LinearRegression()\n",
    "linear_model.fit(x_train, y_train)"
   ]
  },
  {
   "cell_type": "code",
   "execution_count": null,
   "id": "665f7ff6",
   "metadata": {},
   "outputs": [],
   "source": [
    "b=linear_model.intercept_\n",
    "w=linear_model.coef_"
   ]
  },
  {
   "cell_type": "code",
   "execution_count": null,
   "id": "0cd6e542",
   "metadata": {},
   "outputs": [],
   "source": [
    "print(f'Prediction on training set: {linear_model.predict(x_train)[:4]}')"
   ]
  },
  {
   "cell_type": "code",
   "execution_count": null,
   "id": "8c3f69ae",
   "metadata": {},
   "outputs": [],
   "source": [
    "print(f'Prediction using w, b: {(x_train@w+b)[:4]}')"
   ]
  },
  {
   "cell_type": "code",
   "execution_count": null,
   "id": "a6f5a9cb",
   "metadata": {},
   "outputs": [],
   "source": [
    "print(f'Target values: {y_train[:4]}')"
   ]
  },
  {
   "cell_type": "code",
   "execution_count": null,
   "id": "46f192d7",
   "metadata": {},
   "outputs": [],
   "source": [
    "x_house=np.array([1200, 3, 1, 40]).reshape(-1, 4)\n",
    "x_house_predict=linear_model.predict(x_house)[0]\n",
    "print(f'Predicted price of house with 1200 sqft, 3 bedrooms, 1 floor and 40 years old: ${x_house_predict:0.3f}')"
   ]
  }
 ],
 "metadata": {
  "kernelspec": {
   "display_name": "Python 3",
   "language": "python",
   "name": "python3"
  },
  "language_info": {
   "codemirror_mode": {
    "name": "ipython",
    "version": 3
   },
   "file_extension": ".py",
   "mimetype": "text/x-python",
   "name": "python",
   "nbconvert_exporter": "python",
   "pygments_lexer": "ipython3",
   "version": "3.12.10"
  }
 },
 "nbformat": 4,
 "nbformat_minor": 5
}
