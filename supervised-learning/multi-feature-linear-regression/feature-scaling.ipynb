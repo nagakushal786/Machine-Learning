{
 "cells": [
  {
   "cell_type": "markdown",
   "id": "9e0346fe",
   "metadata": {},
   "source": [
    "## Feature scaling and learning rate"
   ]
  },
  {
   "cell_type": "code",
   "execution_count": null,
   "id": "76b916da",
   "metadata": {},
   "outputs": [],
   "source": [
    "import numpy as np\n",
    "import matplotlib.pyplot as plt\n",
    "from lab_utils_multi import load_house_data, run_gradient_descent\n",
    "from lab_utils_multi import norm_plot, plt_equal_scale, plot_cost_i_w\n",
    "from lab_utils_common import dlc\n",
    "np.set_printoptions(precision=2)"
   ]
  },
  {
   "cell_type": "markdown",
   "id": "c45925b6",
   "metadata": {},
   "source": [
    "##  Dataset: \n",
    "| Size (sqft) | Number of Bedrooms  | Number of floors | Age of  Home | Price (1000s dollars)  |   \n",
    "| ----------------| ------------------- |----------------- |--------------|----------------------- |  \n",
    "| 952             | 2                   | 1                | 65           | 271.5                  |  \n",
    "| 1244            | 3                   | 2                | 64           | 232                    |  \n",
    "| 1947            | 3                   | 2                | 17           | 509.8                  |  \n",
    "| ...             | ...                 | ...              | ...          | ...                    |"
   ]
  },
  {
   "cell_type": "code",
   "execution_count": null,
   "id": "943875e5",
   "metadata": {},
   "outputs": [],
   "source": [
    "x_train, y_train=load_house_data()\n",
    "x_features=['size(sqft)', 'bedrooms', 'floors', 'age']"
   ]
  },
  {
   "cell_type": "code",
   "execution_count": null,
   "id": "132efc4d",
   "metadata": {},
   "outputs": [],
   "source": [
    "fig, ax=plt.subplots(1, 4, figsize=(12, 3), sharey=True)\n",
    "\n",
    "for i in range(len(ax)):\n",
    "  ax[i].scatter(x_train[:, i], y_train)\n",
    "  ax[i].set_xlabel(x_features[i])\n",
    "\n",
    "ax[0].set_ylabel('Price (1000s)')\n",
    "plt.show()"
   ]
  },
  {
   "cell_type": "code",
   "execution_count": null,
   "id": "21f3c96d",
   "metadata": {},
   "outputs": [],
   "source": [
    "_, _, hist=run_gradient_descent(x_train, y_train, 10, alpha=9.9e-7)"
   ]
  },
  {
   "cell_type": "markdown",
   "id": "085d2c9e",
   "metadata": {},
   "source": [
    "It appears the learning rate is too high. The solution does not converge. Cost is $increasing$ rather than decreasing."
   ]
  },
  {
   "cell_type": "code",
   "execution_count": null,
   "id": "f21cd8d8",
   "metadata": {},
   "outputs": [],
   "source": [
    "plot_cost_i_w(x_train, y_train, hist)"
   ]
  },
  {
   "cell_type": "code",
   "execution_count": null,
   "id": "f9ade54d",
   "metadata": {},
   "outputs": [],
   "source": [
    "_, _, hist=run_gradient_descent(x_train, y_train, 10, alpha=9e-7)"
   ]
  },
  {
   "cell_type": "code",
   "execution_count": null,
   "id": "d4d6f875",
   "metadata": {},
   "outputs": [],
   "source": [
    "plot_cost_i_w(x_train, y_train, hist)"
   ]
  },
  {
   "cell_type": "code",
   "execution_count": null,
   "id": "7f2540ba",
   "metadata": {},
   "outputs": [],
   "source": [
    "_, _, hist=run_gradient_descent(x_train, y_train, 10, alpha=1e-7)"
   ]
  },
  {
   "cell_type": "code",
   "execution_count": null,
   "id": "e9ceb320",
   "metadata": {},
   "outputs": [],
   "source": [
    "plot_cost_i_w(x_train, y_train, hist)"
   ]
  },
  {
   "cell_type": "markdown",
   "id": "ee2b04d2",
   "metadata": {},
   "source": [
    "### Z-score normalization"
   ]
  },
  {
   "cell_type": "code",
   "execution_count": null,
   "id": "823ed7b0",
   "metadata": {},
   "outputs": [],
   "source": [
    "def z_score_feature_normalization(x):\n",
    "  mu=np.mean(x, axis=0)\n",
    "  sigma=np.std(x, axis=0)\n",
    "\n",
    "  x_norm=(x-mu)/sigma\n",
    "\n",
    "  return (x_norm, mu, sigma)"
   ]
  },
  {
   "cell_type": "code",
   "execution_count": null,
   "id": "54290dce",
   "metadata": {},
   "outputs": [],
   "source": [
    "mu=np.mean(x_train, axis=0)\n",
    "sigma=np.std(x_train, axis=0)\n",
    "\n",
    "x_mean=x_train-mu\n",
    "x_norm=(x_train-mu)/sigma\n",
    "\n",
    "fig, ax=plt.subplots(1, 3, figsize=(12, 3))\n",
    "\n",
    "ax[0].scatter(x_train[:, 0], x_train[:, 3])\n",
    "ax[0].set_xlabel(x_features[0])\n",
    "ax[0].set_ylabel(x_features[3])\n",
    "ax[0].set_title('Un-normalized')\n",
    "ax[0].axis('equal')\n",
    "\n",
    "ax[1].scatter(x_mean[:, 0], x_mean[:, 3])\n",
    "ax[1].set_xlabel(x_features[0])\n",
    "ax[1].set_ylabel(x_features[3])\n",
    "ax[1].set_title('Mean-normalized')\n",
    "ax[1].axis('equal')\n",
    "\n",
    "ax[2].scatter(x_norm[:, 0], x_norm[:, 3])\n",
    "ax[2].set_xlabel(x_features[0])\n",
    "ax[2].set_ylabel(x_features[3])\n",
    "ax[2].set_title('Z-normalized')\n",
    "ax[2].axis('equal')\n",
    "\n",
    "plt.tight_layout(rect=[0, 0.03, 1, 0.95])\n",
    "fig.suptitle('Distribution of features before, during, after normalization')\n",
    "plt.show()"
   ]
  },
  {
   "cell_type": "code",
   "execution_count": null,
   "id": "a225875d",
   "metadata": {},
   "outputs": [],
   "source": [
    "x_norm, x_mu, x_sigma=z_score_feature_normalization(x_train)\n",
    "\n",
    "print(f'x_mu: {x_mu}, x_sigma={x_sigma}')\n",
    "print(f'Peak to peak range by column in Raw form        x: {np.ptp(x_train, axis=0)}')\n",
    "print(f'Peak to peak range by column in Normalized form x: {np.ptp(x_norm, axis=0)}')"
   ]
  },
  {
   "cell_type": "code",
   "execution_count": null,
   "id": "383175f7",
   "metadata": {},
   "outputs": [],
   "source": [
    "fig, ax=plt.subplots(1, 4, figsize=(12, 3))\n",
    "for i in range(len(ax)):\n",
    "  norm_plot(ax[i], x_train[:, i])\n",
    "  ax[i].set_xlabel(x_features[i])\n",
    "ax[0].set_ylabel('Count')\n",
    "fig.suptitle('Distribution of features before normalization')\n",
    "plt.show()\n",
    "\n",
    "\n",
    "fig, ax=plt.subplots(1, 4, figsize=(12, 3))\n",
    "for i in range(len(ax)):\n",
    "  norm_plot(ax[i], x_norm[:, i])\n",
    "  ax[i].set_xlabel(x_features[i])\n",
    "ax[0].set_ylabel('Count')\n",
    "fig.suptitle('Distribution of features after normalization')\n",
    "plt.show()"
   ]
  },
  {
   "cell_type": "code",
   "execution_count": null,
   "id": "4ec4201e",
   "metadata": {},
   "outputs": [],
   "source": [
    "w_norm, b_norm, hist=run_gradient_descent(x_norm, y_train, 1000, 1.0e-1)"
   ]
  },
  {
   "cell_type": "code",
   "execution_count": null,
   "id": "803e4827",
   "metadata": {},
   "outputs": [],
   "source": [
    "m=x_norm.shape[0]\n",
    "yp=np.zeros(m)\n",
    "for i in range(m):\n",
    "  yp[i]=np.dot(x_norm[i], w_norm)+b_norm\n",
    "\n",
    "fig, ax=plt.subplots(1, 4, figsize=(12, 3), sharey=True)\n",
    "for i in range(len(ax)):\n",
    "  ax[i].scatter(x_train[:, i], y_train, label='Target')\n",
    "  ax[i].set_xlabel(x_features[i])\n",
    "  ax[i].scatter(x_train[:, i], yp, color=dlc['dlorange'], label='Predicted')\n",
    "ax[0].set_ylabel('Price')\n",
    "ax[0].legend()\n",
    "\n",
    "fig.suptitle('Target vs Predicted using z-score normalized model')\n",
    "plt.show()"
   ]
  },
  {
   "cell_type": "markdown",
   "id": "7e91d5b3",
   "metadata": {},
   "source": [
    "Now we can then predict the price for other houses. For example, a house with 1200 sqft, 3 bedrooms, 1 floor, 40 years old."
   ]
  },
  {
   "cell_type": "code",
   "execution_count": null,
   "id": "d16cc8fc",
   "metadata": {},
   "outputs": [],
   "source": [
    "x_house=np.array([1200, 3, 1, 40])\n",
    "x_house_norm=(x_house-x_mu)/x_sigma\n",
    "print(x_house_norm)\n",
    "\n",
    "x_house_pred=np.dot(x_house_norm, w_norm)+b_norm\n",
    "print(f'The price of a house with 1200 sqft, 3 bedrooms, 1 floor, 40 years old is ${x_house_pred:0.3f}')"
   ]
  },
  {
   "cell_type": "code",
   "execution_count": null,
   "id": "7364a220",
   "metadata": {},
   "outputs": [],
   "source": [
    "plt_equal_scale(x_train, x_norm, y_train)"
   ]
  }
 ],
 "metadata": {
  "kernelspec": {
   "display_name": "Python 3",
   "language": "python",
   "name": "python3"
  },
  "language_info": {
   "codemirror_mode": {
    "name": "ipython",
    "version": 3
   },
   "file_extension": ".py",
   "mimetype": "text/x-python",
   "name": "python",
   "nbconvert_exporter": "python",
   "pygments_lexer": "ipython3",
   "version": "3.12.10"
  }
 },
 "nbformat": 4,
 "nbformat_minor": 5
}
