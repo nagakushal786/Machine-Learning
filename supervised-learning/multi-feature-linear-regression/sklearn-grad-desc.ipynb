{
 "cells": [
  {
   "cell_type": "markdown",
   "id": "5247708e",
   "metadata": {},
   "source": [
    "## Normalization using Scikit-Learn"
   ]
  },
  {
   "cell_type": "markdown",
   "id": "f136193c",
   "metadata": {},
   "source": [
    "This is an open-source, commercially usable machine learning toolkit called [scikit-learn](https://scikit-learn.org/stable/index.html). This toolkit contains implementations of many of the algorithms"
   ]
  },
  {
   "cell_type": "code",
   "execution_count": null,
   "id": "06fb9213",
   "metadata": {},
   "outputs": [],
   "source": [
    "import numpy as np\n",
    "import matplotlib.pyplot as plt\n",
    "from sklearn.linear_model import SGDRegressor\n",
    "from sklearn.preprocessing import StandardScaler\n",
    "from lab_utils_multi import load_house_data\n",
    "from lab_utils_common import dlc\n",
    "np.set_printoptions(precision=2)"
   ]
  },
  {
   "cell_type": "code",
   "execution_count": null,
   "id": "d5cd354c",
   "metadata": {},
   "outputs": [],
   "source": [
    "x_train, y_train=load_house_data()\n",
    "x_features=['size(sqft)', 'bedrooms', 'floors', 'age']"
   ]
  },
  {
   "cell_type": "markdown",
   "id": "a1140782",
   "metadata": {},
   "source": [
    "### Scaling the training data"
   ]
  },
  {
   "cell_type": "code",
   "execution_count": null,
   "id": "f6bdee51",
   "metadata": {},
   "outputs": [],
   "source": [
    "scaler=StandardScaler()\n",
    "x_norm=scaler.fit_transform(x_train)\n",
    "\n",
    "print(f'Peak to Peak range by column in Raw form:        X: {np.ptp(x_train, axis=0)}')\n",
    "print(f'Peak to Peak range by column in Normalized form: X: {np.ptp(x_norm, axis=0)}')"
   ]
  },
  {
   "cell_type": "markdown",
   "id": "05e08eb4",
   "metadata": {},
   "source": [
    "### Create and fit the regression model"
   ]
  },
  {
   "cell_type": "code",
   "execution_count": null,
   "id": "ca70c8a5",
   "metadata": {},
   "outputs": [],
   "source": [
    "sgdr=SGDRegressor(max_iter=1000)\n",
    "sgdr.fit(x_norm, y_train)\n",
    "\n",
    "print(f'Number of iterations completed: {sgdr.n_iter_}')\n",
    "print(f'Number of weights updated: {sgdr.t_}')"
   ]
  },
  {
   "cell_type": "code",
   "execution_count": null,
   "id": "ba020055",
   "metadata": {},
   "outputs": [],
   "source": [
    "b_norm=sgdr.intercept_\n",
    "w_norm=sgdr.coef_\n",
    "\n",
    "print(f'Weights: {w_norm}, Bias: {b_norm}')"
   ]
  },
  {
   "cell_type": "markdown",
   "id": "f67c1f51",
   "metadata": {},
   "source": [
    "### Making predictions"
   ]
  },
  {
   "cell_type": "code",
   "execution_count": null,
   "id": "6d7e27c9",
   "metadata": {},
   "outputs": [],
   "source": [
    "y_pred_sgd=sgdr.predict(x_norm)\n",
    "\n",
    "y_pred=np.dot(x_norm, w_norm)+b_norm\n",
    "\n",
    "print(f'Prediction using np.dot():       {y_pred}')\n",
    "print(f'Prediction using sgdr.predict(): {y_pred_sgd}')\n",
    "print(f'Do both match? {(y_pred==y_pred_sgd).all()}')"
   ]
  },
  {
   "cell_type": "markdown",
   "id": "3e7d0b69",
   "metadata": {},
   "source": [
    "### Plotting the results"
   ]
  },
  {
   "cell_type": "code",
   "execution_count": null,
   "id": "9857240c",
   "metadata": {},
   "outputs": [],
   "source": [
    "fig, ax=plt.subplots(1, 4, figsize=(12, 3), sharey=True)\n",
    "for i in range(len(ax)):\n",
    "  ax[i].scatter(x_train[:, i], y_train, label='Target')\n",
    "  ax[i].set_xlabel(x_features[i])\n",
    "  ax[i].scatter(x_train[:, i], y_pred_sgd, color=dlc['dlorange'], label='Predicted')\n",
    "ax[0].set_ylabel('Price')\n",
    "ax[0].legend()\n",
    "\n",
    "fig.suptitle('Target vs Predicted using z-score normalized model')\n",
    "plt.show()"
   ]
  }
 ],
 "metadata": {
  "kernelspec": {
   "display_name": "Python 3",
   "language": "python",
   "name": "python3"
  },
  "language_info": {
   "codemirror_mode": {
    "name": "ipython",
    "version": 3
   },
   "file_extension": ".py",
   "mimetype": "text/x-python",
   "name": "python",
   "nbconvert_exporter": "python",
   "pygments_lexer": "ipython3",
   "version": "3.12.10"
  }
 },
 "nbformat": 4,
 "nbformat_minor": 5
}
