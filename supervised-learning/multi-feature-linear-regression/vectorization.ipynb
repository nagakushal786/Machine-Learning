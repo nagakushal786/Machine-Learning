{
 "cells": [
  {
   "cell_type": "markdown",
   "id": "39d2e2da",
   "metadata": {},
   "source": [
    "## Vectorization with NumPy"
   ]
  },
  {
   "cell_type": "code",
   "execution_count": null,
   "id": "4b5600c5",
   "metadata": {},
   "outputs": [],
   "source": [
    "import numpy as np"
   ]
  },
  {
   "cell_type": "code",
   "execution_count": null,
   "id": "a3d0952b",
   "metadata": {},
   "outputs": [],
   "source": [
    "a=np.zeros(4)\n",
    "print(a, a.shape, a.dtype)\n",
    "\n",
    "b=np.zeros((4,))\n",
    "print(b, b.shape, b.dtype)\n",
    "\n",
    "c=np.random.random_sample(4)\n",
    "print(c, c.shape, c.dtype)"
   ]
  },
  {
   "cell_type": "code",
   "execution_count": null,
   "id": "c9d4a4b9",
   "metadata": {},
   "outputs": [],
   "source": [
    "a=np.arange(4)\n",
    "print(a, a.shape, a.dtype)\n",
    "\n",
    "b=np.random.rand(4)\n",
    "print(b, b.shape, b.dtype)\n",
    "\n",
    "c=np.arange(4.)\n",
    "print(c, c.shape, c.dtype)"
   ]
  },
  {
   "cell_type": "code",
   "execution_count": null,
   "id": "a84f3e2f",
   "metadata": {},
   "outputs": [],
   "source": [
    "a=np.array([1, 2, 3, 4])\n",
    "print(a, a.shape, a.dtype)\n",
    "\n",
    "b=np.array([1., 2, 3, 4])\n",
    "print(b, b.shape, b.dtype)"
   ]
  },
  {
   "cell_type": "markdown",
   "id": "9fb6760f",
   "metadata": {},
   "source": [
    "### Indexing on vectors"
   ]
  },
  {
   "cell_type": "code",
   "execution_count": null,
   "id": "7b13699a",
   "metadata": {},
   "outputs": [],
   "source": [
    "a=np.arange(10)\n",
    "\n",
    "print(a[2].shape)\n",
    "print(a[2])\n",
    "print(a[-1])\n",
    "\n",
    "try:\n",
    "  x=a[10]\n",
    "  print(x)\n",
    "except Exception as e:\n",
    "  print(e)"
   ]
  },
  {
   "cell_type": "markdown",
   "id": "53c7484e",
   "metadata": {},
   "source": [
    "### Slicing on vectors"
   ]
  },
  {
   "cell_type": "code",
   "execution_count": null,
   "id": "866667dc",
   "metadata": {},
   "outputs": [],
   "source": [
    "a=np.arange(10)\n",
    "\n",
    "print(a[2:7:1])\n",
    "print(a[2:7:2])\n",
    "print(a[3:])\n",
    "print(a[:3])\n",
    "print(a[:])"
   ]
  },
  {
   "cell_type": "markdown",
   "id": "7d72d6d3",
   "metadata": {},
   "source": [
    "### Single vector operations"
   ]
  },
  {
   "cell_type": "code",
   "execution_count": null,
   "id": "36f060a5",
   "metadata": {},
   "outputs": [],
   "source": [
    "a=np.array([1, 2, 3, 4])\n",
    "\n",
    "print(-a)\n",
    "print(np.sum(a))\n",
    "print(np.mean(a))\n",
    "print(np.min(a))\n",
    "print(np.max(a))\n",
    "print(np.median(a))\n",
    "print(a**2)\n",
    "print(a*2)"
   ]
  },
  {
   "cell_type": "markdown",
   "id": "8bcf1f6a",
   "metadata": {},
   "source": [
    "### Benefit of vectorization"
   ]
  },
  {
   "cell_type": "code",
   "execution_count": null,
   "id": "e07d6fee",
   "metadata": {},
   "outputs": [],
   "source": [
    "a=[1, 2, 3, 4]\n",
    "b=[5, 6, 7, 8]"
   ]
  },
  {
   "cell_type": "code",
   "execution_count": null,
   "id": "8d2f0038",
   "metadata": {},
   "outputs": [],
   "source": [
    "%%time\n",
    "\n",
    "result=0\n",
    "for i in range(len(a)):\n",
    "  result+=a[i]*b[i]\n",
    "\n",
    "print(result)"
   ]
  },
  {
   "cell_type": "code",
   "execution_count": null,
   "id": "1c2e13c5",
   "metadata": {},
   "outputs": [],
   "source": [
    "np_a=np.array(a)\n",
    "np_b=np.array(b)"
   ]
  },
  {
   "cell_type": "code",
   "execution_count": null,
   "id": "a67937a7",
   "metadata": {},
   "outputs": [],
   "source": [
    "%%time\n",
    "\n",
    "np_result=np.dot(np_a, np_b)\n",
    "print(np_result)"
   ]
  },
  {
   "cell_type": "markdown",
   "id": "50eac9c7",
   "metadata": {},
   "source": [
    "### Vector-Vector operations"
   ]
  },
  {
   "cell_type": "code",
   "execution_count": null,
   "id": "ee720ad8",
   "metadata": {},
   "outputs": [],
   "source": [
    "x=np.array([[1], [2], [3], [4]])\n",
    "w=np.array([2])\n",
    "c=np.dot(x[1], w)\n",
    "\n",
    "print(x[1], x[1].shape)\n",
    "print(w, w.shape)\n",
    "print(c, c.shape)"
   ]
  },
  {
   "cell_type": "markdown",
   "id": "45905f73",
   "metadata": {},
   "source": [
    "### Matrices - Higher dimensional vectors"
   ]
  },
  {
   "cell_type": "code",
   "execution_count": null,
   "id": "ae62701c",
   "metadata": {},
   "outputs": [],
   "source": [
    "a=np.zeros((5, 1))\n",
    "print(a, a.shape, a.dtype)\n",
    "\n",
    "b=np.random.random_sample((1, 3))\n",
    "print(b, b.shape, b.dtype)"
   ]
  },
  {
   "cell_type": "markdown",
   "id": "8466cc7b",
   "metadata": {},
   "source": [
    "### Indexing on matrices"
   ]
  },
  {
   "cell_type": "code",
   "execution_count": null,
   "id": "bb6f6c17",
   "metadata": {},
   "outputs": [],
   "source": [
    "a=np.arange(6).reshape(-1, 2)\n",
    "# -1 means calculate rows based on columns dimension\n",
    "\n",
    "print(a, a.shape)\n",
    "print(a[2], a[2].shape, type(a[2]))\n",
    "print(a[2, 0], a[2, 0].shape, type(a[2, 0]))"
   ]
  },
  {
   "cell_type": "markdown",
   "id": "b2106016",
   "metadata": {},
   "source": [
    "### Slicing on matrices"
   ]
  },
  {
   "cell_type": "code",
   "execution_count": null,
   "id": "ec7626f2",
   "metadata": {},
   "outputs": [],
   "source": [
    "a=np.arange(20).reshape(-1, 10)\n",
    "print(a)\n",
    "\n",
    "print(a[0, 2:7:1], a[0, 2:7:1].shape)\n",
    "print(a[:, 2:7:1], a[:, 2:7:1].shape)\n",
    "\n",
    "print(a[:, :])\n",
    "print(a[1, :])\n",
    "print(a[1])"
   ]
  }
 ],
 "metadata": {
  "kernelspec": {
   "display_name": "Python 3",
   "language": "python",
   "name": "python3"
  },
  "language_info": {
   "codemirror_mode": {
    "name": "ipython",
    "version": 3
   },
   "file_extension": ".py",
   "mimetype": "text/x-python",
   "name": "python",
   "nbconvert_exporter": "python",
   "pygments_lexer": "ipython3",
   "version": "3.12.10"
  }
 },
 "nbformat": 4,
 "nbformat_minor": 5
}
