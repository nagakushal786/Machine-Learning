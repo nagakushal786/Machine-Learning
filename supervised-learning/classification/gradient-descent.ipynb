{
 "cells": [
  {
   "cell_type": "markdown",
   "id": "bba48a75",
   "metadata": {},
   "source": [
    "## Gradient descent for logistic regression"
   ]
  },
  {
   "cell_type": "code",
   "execution_count": null,
   "id": "a54eb1ef",
   "metadata": {},
   "outputs": [],
   "source": [
    "import copy, math\n",
    "import numpy as np\n",
    "import matplotlib.pyplot as plt\n",
    "%matplotlib inline\n",
    "from lab_utils_common import dlc, plot_data, plt_tumor_data, sigmoid, compute_cost_logistic\n",
    "from plt_quad_logistic import plt_quad_logistic, plt_prob\n",
    "np.set_printoptions(precision=3)"
   ]
  },
  {
   "cell_type": "code",
   "execution_count": null,
   "id": "b3f0e602",
   "metadata": {},
   "outputs": [],
   "source": [
    "x_train=np.array([[0.5, 1.5], [1,1], [1.5, 0.5], [3, 0.5], [2, 2], [1, 2.5]])\n",
    "y_train=np.array([0, 0, 0, 1, 1, 1])"
   ]
  },
  {
   "cell_type": "code",
   "execution_count": null,
   "id": "8c45f278",
   "metadata": {},
   "outputs": [],
   "source": [
    "def compute_gradient_logistic(x, y, w, b):\n",
    "  m, n=x.shape\n",
    "\n",
    "  dj_dw=np.zeros(n)\n",
    "  dj_db=0\n",
    "\n",
    "  for i in range(m):\n",
    "    f_wb_i=sigmoid(np.dot(w, x[i])+b)\n",
    "    err_i=f_wb_i-y[i]\n",
    "    for j in range(n):\n",
    "      dj_dw[j]=dj_dw[j]+err_i*x[i, j]\n",
    "    dj_db=dj_db+err_i\n",
    "\n",
    "  dj_dw=dj_dw/m\n",
    "  dj_db=dj_db/m\n",
    "\n",
    "  return dj_dw, dj_db"
   ]
  },
  {
   "cell_type": "code",
   "execution_count": null,
   "id": "167f451c",
   "metadata": {},
   "outputs": [],
   "source": [
    "w_tmp=np.array([2.0, 3.0])\n",
    "b_tmp=1.0\n",
    "\n",
    "dj_dw_tmp, dj_db_tmp=compute_gradient_logistic(x_train, y_train, w_tmp, b_tmp)\n",
    "\n",
    "print(f'dj_dw: {dj_dw_tmp.tolist()}')\n",
    "print(f'dj_db: {dj_db_tmp}')"
   ]
  },
  {
   "cell_type": "code",
   "execution_count": null,
   "id": "7af02fa3",
   "metadata": {},
   "outputs": [],
   "source": [
    "def gradient_descent(x, y, w_in, b_in, alpha, num_iters, cost_func, gradient_func):\n",
    "  J_hist=[]\n",
    "  w=copy.deepcopy(w_in)\n",
    "  b=b_in\n",
    "\n",
    "  for i in range(num_iters):\n",
    "    dj_dw, dj_db=gradient_func(x, y, w, b)\n",
    "\n",
    "    w=w-alpha*dj_dw\n",
    "    b=b-alpha*dj_db\n",
    "\n",
    "    if i<100000:\n",
    "      J_hist.append(cost_func(x, y, w, b))\n",
    "\n",
    "    if i%math.ceil(num_iters/10)==0:\n",
    "      print(f'Iteration {i:4d}: Cost {J_hist[-1]}')\n",
    "\n",
    "  return w, b, J_hist"
   ]
  },
  {
   "cell_type": "code",
   "execution_count": null,
   "id": "0a84a6e5",
   "metadata": {},
   "outputs": [],
   "source": [
    "w_tmp=np.zeros_like(x_train[0])\n",
    "b_tmp=0\n",
    "alpha=0.1\n",
    "iterations=10000\n",
    "\n",
    "w_final, b_final, hist=gradient_descent(x_train, y_train, w_tmp, b_tmp,\n",
    "                                        alpha, iterations, compute_cost_logistic,\n",
    "                                        compute_gradient_logistic)\n",
    "\n",
    "print(f'w, b found: {w_final.tolist()}, {b_final}')"
   ]
  },
  {
   "cell_type": "code",
   "execution_count": null,
   "id": "2449454a",
   "metadata": {},
   "outputs": [],
   "source": [
    "fig, ax=plt.subplots(1, 1, figsize=(5, 4))\n",
    "\n",
    "# Plot the probability\n",
    "plt_prob(ax, w_final, b_final)\n",
    "\n",
    "# Plot the original data\n",
    "ax.set_xlabel('x_0')\n",
    "ax.set_ylabel('x_1')\n",
    "ax.axis([0, 4, 0, 3.5])\n",
    "plot_data(x_train, y_train, ax)\n",
    "\n",
    "# Plot the decision boundary\n",
    "x0=-b_final/w_final[0]\n",
    "x1=-b_final/w_final[1]\n",
    "ax.plot([0, x0], [x1, 0], c=dlc['dlblue'], lw=1)\n",
    "plt.show()"
   ]
  },
  {
   "cell_type": "markdown",
   "id": "08f5b7e8",
   "metadata": {},
   "source": [
    "### Another dataset"
   ]
  },
  {
   "cell_type": "code",
   "execution_count": null,
   "id": "8a866897",
   "metadata": {},
   "outputs": [],
   "source": [
    "x=np.array([0, 1, 2, 3, 4, 5])\n",
    "y=np.array([0, 0, 0, 1, 1, 1])"
   ]
  },
  {
   "cell_type": "code",
   "execution_count": null,
   "id": "d3048620",
   "metadata": {},
   "outputs": [],
   "source": [
    "fig, ax=plt.subplots(1, 1, figsize=(4, 3))\n",
    "plt_tumor_data(x, y, ax)\n",
    "plt.show()"
   ]
  },
  {
   "cell_type": "code",
   "execution_count": null,
   "id": "821f7006",
   "metadata": {},
   "outputs": [],
   "source": [
    "w_range=np.array([-1, 7])\n",
    "b_range=np.array([1, -14])\n",
    "quad=plt_quad_logistic(x, y, w_range, b_range)"
   ]
  }
 ],
 "metadata": {
  "kernelspec": {
   "display_name": "Python 3",
   "language": "python",
   "name": "python3"
  },
  "language_info": {
   "codemirror_mode": {
    "name": "ipython",
    "version": 3
   },
   "file_extension": ".py",
   "mimetype": "text/x-python",
   "name": "python",
   "nbconvert_exporter": "python",
   "pygments_lexer": "ipython3",
   "version": "3.12.10"
  }
 },
 "nbformat": 4,
 "nbformat_minor": 5
}
