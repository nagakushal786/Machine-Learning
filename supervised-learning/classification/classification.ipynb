{
 "cells": [
  {
   "cell_type": "markdown",
   "id": "7851222c",
   "metadata": {},
   "source": [
    "## Classification"
   ]
  },
  {
   "cell_type": "code",
   "execution_count": null,
   "id": "b34e9da7",
   "metadata": {},
   "outputs": [],
   "source": [
    "import numpy as np\n",
    "import matplotlib.pyplot as plt\n",
    "%matplotlib inline\n",
    "from lab_utils_common import dlc, plot_data\n",
    "from plt_one_addpt_onclick import plt_one_addpt_onclick"
   ]
  },
  {
   "cell_type": "code",
   "execution_count": null,
   "id": "9135d12a",
   "metadata": {},
   "outputs": [],
   "source": [
    "x_train1=np.array([0, 1, 2, 3, 4, 5])\n",
    "y_train1=np.array([0, 0, 0, 1, 1, 1])\n",
    "x_train2=np.array([[0.5, 1.5], [1,1], [1.5, 0.5], [3, 0.5], [2, 2], [1, 2.5]])\n",
    "y_train2=np.array([0, 0, 0, 1, 1, 1])"
   ]
  },
  {
   "cell_type": "code",
   "execution_count": null,
   "id": "081f9554",
   "metadata": {},
   "outputs": [],
   "source": [
    "pos=y_train1==1\n",
    "neg=y_train1==0\n",
    "\n",
    "fig, ax=plt.subplots(1, 2, figsize=(8, 3))\n",
    "\n",
    "# For single variable\n",
    "ax[0].scatter(x_train1[pos], y_train1[pos], marker='x', s=80, c='red', label='y=1')\n",
    "ax[0].scatter(x_train1[neg], y_train1[neg], marker='o', s=100, label='y=0', \n",
    "              facecolors='none', edgecolors=dlc['dlblue'], lw=3)\n",
    "\n",
    "ax[0].set_ylim(-0.08, 1.1)\n",
    "ax[0].set_ylabel('Y', fontsize=12)\n",
    "ax[0].set_xlabel('X', fontsize=12)\n",
    "ax[0].set_title('One Variable plot')\n",
    "ax[0].legend(labelspacing=1.2)\n",
    "\n",
    "# For two variables\n",
    "plot_data(x_train2, y_train2, ax[1])\n",
    "ax[1].axis([0, 4, 0, 4])\n",
    "ax[1].set_ylabel('x_1', fontsize=12)\n",
    "ax[1].set_xlabel('x_0', fontsize=12)\n",
    "ax[1].set_title('Two Variable plot')\n",
    "ax[1].legend(labelspacing=1.2)\n",
    "\n",
    "plt.tight_layout()\n",
    "plt.show()"
   ]
  },
  {
   "cell_type": "markdown",
   "id": "6529eae8",
   "metadata": {},
   "source": [
    "Note in the plots above:\n",
    "- In the single variable plot, positive results are shown both a red 'X's and as y=1. Negative results are blue 'O's and are located at y=0.\n",
    "- In the two-variable plot, the y axis is not available. Positive results are shown as red 'X's, while negative results use the blue 'O' symbol."
   ]
  },
  {
   "cell_type": "code",
   "execution_count": null,
   "id": "968b45ef",
   "metadata": {},
   "outputs": [],
   "source": [
    "w_in=np.zeros(1)\n",
    "b_in=0\n",
    "plt.close('all')\n",
    "\n",
    "addpt=plt_one_addpt_onclick(x_train1, y_train1, w_in, b_in, logistic=False)"
   ]
  }
 ],
 "metadata": {
  "kernelspec": {
   "display_name": "Python 3",
   "language": "python",
   "name": "python3"
  },
  "language_info": {
   "codemirror_mode": {
    "name": "ipython",
    "version": 3
   },
   "file_extension": ".py",
   "mimetype": "text/x-python",
   "name": "python",
   "nbconvert_exporter": "python",
   "pygments_lexer": "ipython3",
   "version": "3.12.10"
  }
 },
 "nbformat": 4,
 "nbformat_minor": 5
}
