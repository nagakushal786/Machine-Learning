{
 "cells": [
  {
   "cell_type": "markdown",
   "id": "d133b16f",
   "metadata": {},
   "source": [
    "## Logistic loss function"
   ]
  },
  {
   "cell_type": "code",
   "execution_count": null,
   "id": "38f4d5bf",
   "metadata": {},
   "outputs": [],
   "source": [
    "import numpy as np\n",
    "import matplotlib.pyplot as plt\n",
    "%matplotlib inline\n",
    "from plt_logistic_loss import plt_logistic_cost, plt_two_logistic_loss_curves, plt_simple_example\n",
    "from plt_logistic_loss import soup_bowl, plt_logistic_squared_error"
   ]
  },
  {
   "cell_type": "code",
   "execution_count": null,
   "id": "8aa49714",
   "metadata": {},
   "outputs": [],
   "source": [
    "# Visualization of squared error cost of linear regression\n",
    "soup_bowl()"
   ]
  },
  {
   "cell_type": "code",
   "execution_count": null,
   "id": "eb939e72",
   "metadata": {},
   "outputs": [],
   "source": [
    "x_train=np.array([0, 1, 2, 3, 4, 5], dtype=np.longdouble)\n",
    "y_train=np.array([0, 0, 0, 1, 1, 1], dtype=np.longdouble)\n",
    "plt_simple_example(x_train, y_train)"
   ]
  },
  {
   "cell_type": "code",
   "execution_count": null,
   "id": "d2015a84",
   "metadata": {},
   "outputs": [],
   "source": [
    "plt.close('all')\n",
    "plt_logistic_squared_error(x_train, y_train)\n",
    "plt.show()"
   ]
  },
  {
   "cell_type": "code",
   "execution_count": null,
   "id": "0b74e8a9",
   "metadata": {},
   "outputs": [],
   "source": [
    "plt_two_logistic_loss_curves()"
   ]
  },
  {
   "cell_type": "code",
   "execution_count": null,
   "id": "927fef6a",
   "metadata": {},
   "outputs": [],
   "source": [
    "plt.close('all')\n",
    "cst=plt_logistic_cost(x_train, y_train)"
   ]
  }
 ],
 "metadata": {
  "kernelspec": {
   "display_name": "Python 3",
   "language": "python",
   "name": "python3"
  },
  "language_info": {
   "codemirror_mode": {
    "name": "ipython",
    "version": 3
   },
   "file_extension": ".py",
   "mimetype": "text/x-python",
   "name": "python",
   "nbconvert_exporter": "python",
   "pygments_lexer": "ipython3",
   "version": "3.12.10"
  }
 },
 "nbformat": 4,
 "nbformat_minor": 5
}
