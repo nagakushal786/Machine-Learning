{
 "cells": [
  {
   "cell_type": "markdown",
   "id": "8b0a55c4",
   "metadata": {},
   "source": [
    "## Cost function"
   ]
  },
  {
   "cell_type": "code",
   "execution_count": null,
   "id": "b828de37",
   "metadata": {},
   "outputs": [],
   "source": [
    "import numpy as np\n",
    "import matplotlib.pyplot as plt\n",
    "%matplotlib inline\n",
    "from lab_utils_common import plot_data, sigmoid, dlc"
   ]
  },
  {
   "cell_type": "code",
   "execution_count": null,
   "id": "aa7b4216",
   "metadata": {},
   "outputs": [],
   "source": [
    "x_train=np.array([[0.5, 1.5], [1,1], [1.5, 0.5], [3, 0.5], [2, 2], [1, 2.5]])\n",
    "y_train=np.array([0, 0, 0, 1, 1, 1])"
   ]
  },
  {
   "cell_type": "code",
   "execution_count": null,
   "id": "ba33c8f7",
   "metadata": {},
   "outputs": [],
   "source": [
    "fig, ax=plt.subplots(1, 1, figsize=(4, 4))\n",
    "plot_data(x_train, y_train, ax)\n",
    "\n",
    "ax.axis([0, 4, 0, 3.5])\n",
    "ax.set_xlabel('x_0', fontsize=12)\n",
    "ax.set_ylabel('x_1', fontsize=12)\n",
    "plt.show()"
   ]
  },
  {
   "cell_type": "markdown",
   "id": "df2ba5f9",
   "metadata": {},
   "source": [
    "### Cost function"
   ]
  },
  {
   "cell_type": "code",
   "execution_count": null,
   "id": "7ca2a112",
   "metadata": {},
   "outputs": [],
   "source": [
    "def compute_cost(x, y, w, b):\n",
    "  m=x.shape[0]\n",
    "  cost=0\n",
    "\n",
    "  for i in range(m):\n",
    "    z_i=np.dot(w, x[i])+b\n",
    "    f_wb_i=sigmoid(z_i)\n",
    "\n",
    "    cost+=(-y[i]*np.log(f_wb_i))-((1-y[i])*np.log(1-f_wb_i))\n",
    "\n",
    "  cost=cost/m\n",
    "\n",
    "  return cost"
   ]
  },
  {
   "cell_type": "code",
   "execution_count": null,
   "id": "e8a995d4",
   "metadata": {},
   "outputs": [],
   "source": [
    "w_tmp=np.array([1, 1])\n",
    "b_tmp=-3\n",
    "\n",
    "cost=compute_cost(x_train, y_train, w_tmp, b_tmp)\n",
    "print(f'Logistic cost is: {cost}')"
   ]
  },
  {
   "cell_type": "code",
   "execution_count": null,
   "id": "606798bb",
   "metadata": {},
   "outputs": [],
   "source": [
    "x0=np.arange(0, 6)\n",
    "\n",
    "x1=3-x0\n",
    "x2=4-x0\n",
    "\n",
    "fig, ax=plt.subplots(1, 1, figsize=(4, 4))\n",
    "\n",
    "ax.plot(x0, x1, c=dlc['dlblue'], label='b=-3')\n",
    "ax.plot(x0, x2, c=dlc['dlmagenta'], label='b=-4')\n",
    "\n",
    "plot_data(x_train, y_train, ax)\n",
    "ax.axis([0, 4, 0, 4])\n",
    "ax.set_xlabel('x_0')\n",
    "ax.set_ylabel('x_1')\n",
    "plt.legend(loc='upper right')\n",
    "plt.title('Decision boundary')\n",
    "plt.show()"
   ]
  },
  {
   "cell_type": "markdown",
   "id": "4e151082",
   "metadata": {},
   "source": [
    "You can see from this plot that `b = -4, w = np.array([1,1])` is a worse model for the training data."
   ]
  },
  {
   "cell_type": "code",
   "execution_count": null,
   "id": "9c9e24a4",
   "metadata": {},
   "outputs": [],
   "source": [
    "w_arr1=np.array([1, 1])\n",
    "b_1=-3\n",
    "\n",
    "w_arr2=np.array([1, 1])\n",
    "b_2=-4\n",
    "\n",
    "print(f'Logistic cost for b=-3: {compute_cost(x_train, y_train, w_arr1, b_1)}')\n",
    "print(f'Logistic cost for b=-4: {compute_cost(x_train, y_train, w_arr2, b_2)}')"
   ]
  }
 ],
 "metadata": {
  "kernelspec": {
   "display_name": "Python 3",
   "language": "python",
   "name": "python3"
  },
  "language_info": {
   "codemirror_mode": {
    "name": "ipython",
    "version": 3
   },
   "file_extension": ".py",
   "mimetype": "text/x-python",
   "name": "python",
   "nbconvert_exporter": "python",
   "pygments_lexer": "ipython3",
   "version": "3.12.10"
  }
 },
 "nbformat": 4,
 "nbformat_minor": 5
}
