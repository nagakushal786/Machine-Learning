{
 "cells": [
  {
   "cell_type": "markdown",
   "id": "cf054988",
   "metadata": {},
   "source": [
    "## Sigmoid function - Logistic regression"
   ]
  },
  {
   "cell_type": "code",
   "execution_count": null,
   "id": "840755c7",
   "metadata": {},
   "outputs": [],
   "source": [
    "import numpy as np\n",
    "import matplotlib.pyplot as plt\n",
    "%matplotlib inline\n",
    "from plt_one_addpt_onclick import plt_one_addpt_onclick\n",
    "from lab_utils_common import draw_vthresh\n",
    "np.set_printoptions(precision=2)"
   ]
  },
  {
   "cell_type": "code",
   "execution_count": null,
   "id": "fd86ce25",
   "metadata": {},
   "outputs": [],
   "source": [
    "input_array=np.array([1, 2, 3])\n",
    "exp_array=np.exp(input_array)\n",
    "print(exp_array)\n",
    "\n",
    "input_val=1\n",
    "exp_value=np.exp(input_val)\n",
    "print(exp_value)"
   ]
  },
  {
   "cell_type": "code",
   "execution_count": null,
   "id": "cdcc3d1b",
   "metadata": {},
   "outputs": [],
   "source": [
    "def sigmoid(z):\n",
    "  g=1/(1+np.exp(-z))\n",
    "  return g"
   ]
  },
  {
   "cell_type": "code",
   "execution_count": null,
   "id": "a5889739",
   "metadata": {},
   "outputs": [],
   "source": [
    "z_tmp=np.arange(-10, 11)\n",
    "y=sigmoid(z_tmp)\n",
    "\n",
    "print('Input(z), Output(sigmoid(z))')\n",
    "print(np.c_[z_tmp, y])"
   ]
  },
  {
   "cell_type": "code",
   "execution_count": null,
   "id": "fe14c206",
   "metadata": {},
   "outputs": [],
   "source": [
    "fig, ax=plt.subplots(1, 1, figsize=(5, 3))\n",
    "ax.plot(z_tmp, y, c='r')\n",
    "\n",
    "ax.set_title('Sigmoid function')\n",
    "ax.set_xlabel('z')\n",
    "ax.set_ylabel('g(z)')\n",
    "draw_vthresh(ax, 0)"
   ]
  },
  {
   "cell_type": "markdown",
   "id": "d9d65611",
   "metadata": {},
   "source": [
    "### Logistic regression"
   ]
  },
  {
   "cell_type": "code",
   "execution_count": null,
   "id": "87bba206",
   "metadata": {},
   "outputs": [],
   "source": [
    "x_train=np.array([0, 1, 2, 3, 4, 5])\n",
    "y_train=np.array([0, 0, 0, 1, 1, 1])\n",
    "\n",
    "w_in=np.zeros(1)\n",
    "b_in=0"
   ]
  },
  {
   "cell_type": "code",
   "execution_count": null,
   "id": "52e82384",
   "metadata": {},
   "outputs": [],
   "source": [
    "plt.close('all')\n",
    "addpt=plt_one_addpt_onclick(x_train, y_train, w_in, b_in, logistic=True)"
   ]
  }
 ],
 "metadata": {
  "kernelspec": {
   "display_name": "Python 3",
   "language": "python",
   "name": "python3"
  },
  "language_info": {
   "codemirror_mode": {
    "name": "ipython",
    "version": 3
   },
   "file_extension": ".py",
   "mimetype": "text/x-python",
   "name": "python",
   "nbconvert_exporter": "python",
   "pygments_lexer": "ipython3",
   "version": "3.12.10"
  }
 },
 "nbformat": 4,
 "nbformat_minor": 5
}
