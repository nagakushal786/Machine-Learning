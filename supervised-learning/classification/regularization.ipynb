{
 "cells": [
  {
   "cell_type": "markdown",
   "id": "28cb96fc",
   "metadata": {},
   "source": [
    "## Regularization"
   ]
  },
  {
   "cell_type": "code",
   "execution_count": null,
   "id": "f75bc607",
   "metadata": {},
   "outputs": [],
   "source": [
    "import copy, math\n",
    "import numpy as np\n",
    "import matplotlib.pyplot as plt\n",
    "%matplotlib inline\n",
    "from plt_overfit import overfit_example, output\n",
    "from lab_utils_common import sigmoid\n",
    "np.set_printoptions(precision=8)"
   ]
  },
  {
   "cell_type": "markdown",
   "id": "15385eb8",
   "metadata": {},
   "source": [
    "### Regularized cost function for linear regression"
   ]
  },
  {
   "cell_type": "code",
   "execution_count": null,
   "id": "b092b0da",
   "metadata": {},
   "outputs": [],
   "source": [
    "def compute_cost_linear_reg(x, y, w, b, lambda_):\n",
    "  m=x.shape[0]\n",
    "  n=len(w)\n",
    "\n",
    "  cost=0\n",
    "  for i in range(m):\n",
    "    f_wb_i=np.dot(w, x[i])+b\n",
    "    cost=cost+(f_wb_i-y[i])**2\n",
    "\n",
    "  cost=cost/(2*m)\n",
    "\n",
    "  reg_cost=0\n",
    "  for j in range(n):\n",
    "    reg_cost=reg_cost+(w[j]**2)\n",
    "\n",
    "  reg_cost=(lambda_/(2*m))*reg_cost\n",
    "\n",
    "  total_cost=cost+reg_cost\n",
    "\n",
    "  return total_cost"
   ]
  },
  {
   "cell_type": "code",
   "execution_count": null,
   "id": "ad50b068",
   "metadata": {},
   "outputs": [],
   "source": [
    "np.random.seed(1)\n",
    "\n",
    "x_tmp=np.random.rand(5, 6)\n",
    "y_tmp=np.array([0, 1, 0, 1, 0])\n",
    "w_tmp=np.random.rand(x_tmp.shape[1]).reshape(-1, )-0.5\n",
    "b_tmp=0.5\n",
    "lambda_tmp=0.7\n",
    "\n",
    "cost_lin_tmp=compute_cost_linear_reg(x_tmp, y_tmp, w_tmp, b_tmp, lambda_tmp)\n",
    "print(f'Linear regularized cost: {cost_lin_tmp}')"
   ]
  },
  {
   "cell_type": "markdown",
   "id": "4de4f835",
   "metadata": {},
   "source": [
    "### Regularized cost function for logistic regression"
   ]
  },
  {
   "cell_type": "code",
   "execution_count": null,
   "id": "7323237e",
   "metadata": {},
   "outputs": [],
   "source": [
    "def compute_cost_logistic_reg(x, y, w, b, lambda_):\n",
    "  m, n=x.shape\n",
    "  cost=0\n",
    "\n",
    "  for i in range(m):\n",
    "    z_i=np.dot(w, x[i])+b\n",
    "    f_wb_i=sigmoid(z_i)\n",
    "    cost+=(-y[i]*np.log(f_wb_i))-((1-y[i])*np.log(1-f_wb_i))\n",
    "\n",
    "  cost=cost/m\n",
    "\n",
    "  reg_cost=0\n",
    "  for j in range(n):\n",
    "    reg_cost=reg_cost+(w[j]**2)\n",
    "\n",
    "  reg_cost=reg_cost*(lambda_/(2*m))\n",
    "\n",
    "  total_cost=cost+reg_cost\n",
    "\n",
    "  return total_cost"
   ]
  },
  {
   "cell_type": "code",
   "execution_count": null,
   "id": "1ee92c4d",
   "metadata": {},
   "outputs": [],
   "source": [
    "np.random.seed(1)\n",
    "\n",
    "x_tmp=np.random.rand(5, 6)\n",
    "y_tmp=np.array([0, 1, 0, 1, 0])\n",
    "w_tmp=np.random.rand(x_tmp.shape[1]).reshape(-1, )-0.5\n",
    "b_tmp=0.5\n",
    "lambda_tmp=0.7\n",
    "\n",
    "cost_lin_tmp=compute_cost_logistic_reg(x_tmp, y_tmp, w_tmp, b_tmp, lambda_tmp)\n",
    "print(f'Logistic regularized cost: {cost_lin_tmp}')"
   ]
  },
  {
   "cell_type": "markdown",
   "id": "21050821",
   "metadata": {},
   "source": [
    "### Gradient function for regularized linear regression"
   ]
  },
  {
   "cell_type": "code",
   "execution_count": null,
   "id": "9da44ea8",
   "metadata": {},
   "outputs": [],
   "source": [
    "def compute_gradient_linear_reg(x, y, w, b, lambda_):\n",
    "  m, n=x.shape\n",
    "  dj_dw=np.zeros(n)\n",
    "  dj_db=0\n",
    "\n",
    "  for i in range(m):\n",
    "    error=(np.dot(w, x[i])+b)-y[i]\n",
    "    for j in range(n):\n",
    "      dj_dw[j]=dj_dw[j]+error*x[i, j]\n",
    "    dj_db=dj_db+error\n",
    "\n",
    "  dj_dw=dj_dw/m\n",
    "  dj_db=dj_db/m\n",
    "\n",
    "  for j in range(n):\n",
    "    dj_dw[j]+=(lambda_/m)*w[j]\n",
    "\n",
    "  return dj_dw, dj_db"
   ]
  },
  {
   "cell_type": "code",
   "execution_count": null,
   "id": "da7738d6",
   "metadata": {},
   "outputs": [],
   "source": [
    "np.random.seed(1)\n",
    "\n",
    "x_tmp=np.random.rand(5, 3)\n",
    "y_tmp=np.array([0, 1, 0, 1, 0])\n",
    "w_tmp=np.random.rand(x_tmp.shape[1])\n",
    "b_tmp=0.5\n",
    "lambda_tmp=0.7\n",
    "\n",
    "dj_dw_tmp, dj_db_tmp=compute_gradient_linear_reg(x_tmp, y_tmp, w_tmp, b_tmp, lambda_tmp)\n",
    "\n",
    "print(f'Linear regularized gradients are dj_dw: {dj_dw_tmp}, dj_db: {dj_db_tmp}')"
   ]
  },
  {
   "cell_type": "markdown",
   "id": "0795d443",
   "metadata": {},
   "source": [
    "### Gradient function for regularized logistic regression"
   ]
  },
  {
   "cell_type": "code",
   "execution_count": null,
   "id": "6e4787fe",
   "metadata": {},
   "outputs": [],
   "source": [
    "def compute_gradient_logistic_reg(x, y, w, b, lambda_):\n",
    "  m, n=x.shape\n",
    "  dj_dw=np.zeros(n)\n",
    "  dj_db=0\n",
    "\n",
    "  for i in range(m):\n",
    "    error=sigmoid(np.dot(w, x[i])+b)-y[i]\n",
    "    for j in range(n):\n",
    "      dj_dw[j]=dj_dw[j]+error*x[i, j]\n",
    "    dj_db=dj_db+error\n",
    "\n",
    "  dj_dw=dj_dw/m\n",
    "  dj_db=dj_db/m\n",
    "\n",
    "  for j in range(n):\n",
    "    dj_dw[j]=dj_dw[j]+(lambda_/m)*w[j]\n",
    "\n",
    "  return dj_dw, dj_db"
   ]
  },
  {
   "cell_type": "code",
   "execution_count": null,
   "id": "d5e04559",
   "metadata": {},
   "outputs": [],
   "source": [
    "np.random.seed(1)\n",
    "\n",
    "x_tmp=np.random.rand(5, 3)\n",
    "y_tmp=np.array([0, 1, 0, 1, 0])\n",
    "w_tmp=np.random.rand(x_tmp.shape[1])\n",
    "b_tmp=0.5\n",
    "lambda_tmp=0.7\n",
    "\n",
    "dj_dw_tmp, dj_db_tmp=compute_gradient_logistic_reg(x_tmp, y_tmp, w_tmp, b_tmp, lambda_tmp)\n",
    "\n",
    "print(f'Logistic regularized gradients are dj_dw: {dj_dw_tmp}, dj_db: {dj_db_tmp}')"
   ]
  },
  {
   "cell_type": "code",
   "execution_count": null,
   "id": "df408d7d",
   "metadata": {},
   "outputs": [],
   "source": [
    "def gradient_descent(x, y, w_in, b_in, alpha, num_iters, cost_func, gradient_func, lambda_):\n",
    "  w=copy.deepcopy(w_in)\n",
    "  b=b_in\n",
    "  J_hist=[]\n",
    "\n",
    "  for i in range(num_iters):\n",
    "    dj_dw, dj_db=gradient_func(x, y, w, b, lambda_)\n",
    "\n",
    "    w=w-alpha*dj_dw\n",
    "    b=b-alpha*dj_db\n",
    "\n",
    "    if i<100000:\n",
    "      J_hist.append(cost_func(x, y, w, b, lambda_))\n",
    "\n",
    "    if i%math.ceil(num_iters/10)==0:\n",
    "      print(f'Iteration {i:4d}: Cost {J_hist[-1]}')\n",
    "\n",
    "  return w, b, J_hist"
   ]
  },
  {
   "cell_type": "markdown",
   "id": "836c1b60",
   "metadata": {},
   "source": [
    "### Gradient descent for regularized linear regression"
   ]
  },
  {
   "cell_type": "code",
   "execution_count": null,
   "id": "e5c6f97d",
   "metadata": {},
   "outputs": [],
   "source": [
    "np.random.seed(1)\n",
    "\n",
    "x_tmp=np.random.rand(5, 3)\n",
    "y_tmp=np.array([0, 1, 0, 1, 0])\n",
    "w_tmp=np.random.rand(x_tmp.shape[1])\n",
    "b_tmp=0.5\n",
    "lambda_tmp=0.7\n",
    "alpha=0.1\n",
    "iterations=10000\n",
    "\n",
    "w, b, hist=gradient_descent(x_tmp, y_tmp, w_tmp, b_tmp, alpha, iterations,\n",
    "                            compute_cost_linear_reg, compute_gradient_linear_reg,\n",
    "                            lambda_tmp)\n",
    "\n",
    "print(f'Linear regularized parameters are w: {w}, b: {b}')"
   ]
  },
  {
   "cell_type": "markdown",
   "id": "55d020b9",
   "metadata": {},
   "source": [
    "### Gradient descent for regularized logistic regression"
   ]
  },
  {
   "cell_type": "code",
   "execution_count": null,
   "id": "c766e6e8",
   "metadata": {},
   "outputs": [],
   "source": [
    "np.random.seed(1)\n",
    "\n",
    "x_tmp=np.random.rand(5, 3)\n",
    "y_tmp=np.array([0, 1, 0, 1, 0])\n",
    "w_tmp=np.random.rand(x_tmp.shape[1])\n",
    "b_tmp=0.5\n",
    "lambda_tmp=0.7\n",
    "alpha=0.1\n",
    "iterations=10000\n",
    "\n",
    "w, b, hist=gradient_descent(x_tmp, y_tmp, w_tmp, b_tmp, alpha, iterations,\n",
    "                            compute_cost_logistic_reg, compute_gradient_logistic_reg,\n",
    "                            lambda_tmp)\n",
    "\n",
    "print(f'Logistic regularized parameters are w: {w}, b: {b}')"
   ]
  },
  {
   "cell_type": "code",
   "execution_count": null,
   "id": "69591165",
   "metadata": {},
   "outputs": [],
   "source": [
    "plt.close('all')\n",
    "display(output)\n",
    "ofit=overfit_example(True)"
   ]
  }
 ],
 "metadata": {
  "kernelspec": {
   "display_name": "Python 3",
   "language": "python",
   "name": "python3"
  },
  "language_info": {
   "codemirror_mode": {
    "name": "ipython",
    "version": 3
   },
   "file_extension": ".py",
   "mimetype": "text/x-python",
   "name": "python",
   "nbconvert_exporter": "python",
   "pygments_lexer": "ipython3",
   "version": "3.12.10"
  }
 },
 "nbformat": 4,
 "nbformat_minor": 5
}
