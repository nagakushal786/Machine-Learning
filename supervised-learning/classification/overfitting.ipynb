{
 "cells": [
  {
   "cell_type": "markdown",
   "id": "fd4c1e76",
   "metadata": {},
   "source": [
    "## Overfitting"
   ]
  },
  {
   "cell_type": "code",
   "execution_count": null,
   "id": "ed557fe7",
   "metadata": {},
   "outputs": [],
   "source": [
    "import matplotlib.pyplot as plt\n",
    "%matplotlib inline\n",
    "from plt_overfit import overfit_example, output"
   ]
  },
  {
   "cell_type": "code",
   "execution_count": null,
   "id": "b9508f92",
   "metadata": {},
   "outputs": [],
   "source": [
    "plt.close('all')\n",
    "display(output)\n",
    "ofit=overfit_example(False)"
   ]
  }
 ],
 "metadata": {
  "kernelspec": {
   "display_name": "Python 3",
   "language": "python",
   "name": "python3"
  },
  "language_info": {
   "codemirror_mode": {
    "name": "ipython",
    "version": 3
   },
   "file_extension": ".py",
   "mimetype": "text/x-python",
   "name": "python",
   "nbconvert_exporter": "python",
   "pygments_lexer": "ipython3",
   "version": "3.12.10"
  }
 },
 "nbformat": 4,
 "nbformat_minor": 5
}
