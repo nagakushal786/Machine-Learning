{
 "cells": [
  {
   "cell_type": "markdown",
   "id": "5669bce1",
   "metadata": {},
   "source": [
    "## Decision boundary - Logistic regression"
   ]
  },
  {
   "cell_type": "code",
   "execution_count": null,
   "id": "a7b65368",
   "metadata": {},
   "outputs": [],
   "source": [
    "import numpy as np\n",
    "import matplotlib.pyplot as plt\n",
    "%matplotlib inline\n",
    "from lab_utils_common import plot_data, sigmoid, draw_vthresh"
   ]
  },
  {
   "cell_type": "code",
   "execution_count": null,
   "id": "354b1afa",
   "metadata": {},
   "outputs": [],
   "source": [
    "x=np.array([[0.5, 1.5], [1,1], [1.5, 0.5], [3, 0.5], [2, 2], [1, 2.5]])\n",
    "y=np.array([0, 0, 0, 1, 1, 1]).reshape(-1, 1)"
   ]
  },
  {
   "cell_type": "markdown",
   "id": "7f937976",
   "metadata": {},
   "source": [
    "### Plot data"
   ]
  },
  {
   "cell_type": "code",
   "execution_count": null,
   "id": "e73a3e71",
   "metadata": {},
   "outputs": [],
   "source": [
    "fig, ax=plt.subplots(1, 1, figsize=(4, 4))\n",
    "plot_data(x, y, ax)\n",
    "\n",
    "ax.axis([0, 4, 0, 3.5])\n",
    "ax.set_xlabel('x_0')\n",
    "ax.set_ylabel('x_1')\n",
    "plt.show()"
   ]
  },
  {
   "cell_type": "code",
   "execution_count": null,
   "id": "521662e0",
   "metadata": {},
   "outputs": [],
   "source": [
    "z=np.arange(-10, 11)\n",
    "\n",
    "fig, ax=plt.subplots(1, 1, figsize=(5, 3))\n",
    "ax.plot(z, sigmoid(z), c='r')\n",
    "\n",
    "ax.set_title('Sigmoid function')\n",
    "ax.set_ylabel('g(z)')\n",
    "ax.set_xlabel('z')\n",
    "draw_vthresh(ax, 0)"
   ]
  },
  {
   "cell_type": "markdown",
   "id": "b6fc08a2",
   "metadata": {},
   "source": [
    "### Plotting the decision boundary"
   ]
  },
  {
   "cell_type": "code",
   "execution_count": null,
   "id": "0e56ca3b",
   "metadata": {},
   "outputs": [],
   "source": [
    "x0=np.arange(0, 6)\n",
    "\n",
    "x1=3-x0\n",
    "\n",
    "fig, ax=plt.subplots(1, 1, figsize=(5, 4))\n",
    "\n",
    "# Plot the decision boundary\n",
    "ax.plot(x0, x1, c='r')\n",
    "ax.axis([0, 4, 0, 3.5])\n",
    "\n",
    "# Fill the region below the line\n",
    "ax.fill_between(x0, x1, alpha=0.2)\n",
    "\n",
    "# Plot the original data\n",
    "plot_data(x, y, ax)\n",
    "\n",
    "ax.set_ylabel('x_1')\n",
    "ax.set_xlabel('x_0')\n",
    "plt.show()"
   ]
  }
 ],
 "metadata": {
  "kernelspec": {
   "display_name": "Python 3",
   "language": "python",
   "name": "python3"
  },
  "language_info": {
   "codemirror_mode": {
    "name": "ipython",
    "version": 3
   },
   "file_extension": ".py",
   "mimetype": "text/x-python",
   "name": "python",
   "nbconvert_exporter": "python",
   "pygments_lexer": "ipython3",
   "version": "3.12.10"
  }
 },
 "nbformat": 4,
 "nbformat_minor": 5
}
